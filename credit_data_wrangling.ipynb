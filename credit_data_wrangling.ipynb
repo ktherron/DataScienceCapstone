{
 "cells": [
  {
   "cell_type": "markdown",
   "id": "7b78f30f",
   "metadata": {},
   "source": [
    "### Imports"
   ]
  },
  {
   "cell_type": "code",
   "execution_count": 1,
   "id": "4a754363",
   "metadata": {},
   "outputs": [],
   "source": [
    "# Import pandas in the line below\n",
    "import os\n",
    "import pandas as pd"
   ]
  },
  {
   "cell_type": "markdown",
   "id": "4cad24be",
   "metadata": {},
   "source": [
    "### Load The Credit Card Data"
   ]
  },
  {
   "cell_type": "code",
   "execution_count": 2,
   "id": "28888a89",
   "metadata": {},
   "outputs": [],
   "source": [
    "credit_data = pd.read_csv('credit.csv')"
   ]
  },
  {
   "cell_type": "code",
   "execution_count": 3,
   "id": "06469749",
   "metadata": {},
   "outputs": [
    {
     "name": "stdout",
     "output_type": "stream",
     "text": [
      "<class 'pandas.core.frame.DataFrame'>\n",
      "RangeIndex: 37097 entries, 0 to 37096\n",
      "Data columns (total 12 columns):\n",
      " #   Column                     Non-Null Count  Dtype  \n",
      "---  ------                     --------------  -----  \n",
      " 0   AcountNumber               37097 non-null  int64  \n",
      " 1   CVV                        37097 non-null  int64  \n",
      " 2   CustomerAge                28246 non-null  float64\n",
      " 3   Gender                     37097 non-null  object \n",
      " 4   Marital Status             37097 non-null  object \n",
      " 5   CardColour                 37097 non-null  object \n",
      " 6   CardType                   37097 non-null  object \n",
      " 7   Domain                     37097 non-null  object \n",
      " 8   Amount                     37097 non-null  int64  \n",
      " 9   AverageIncomeExpendicture  37097 non-null  int64  \n",
      " 10  Outcome                    37097 non-null  int64  \n",
      " 11  Customer_City_Address      37097 non-null  object \n",
      "dtypes: float64(1), int64(5), object(6)\n",
      "memory usage: 3.4+ MB\n"
     ]
    }
   ],
   "source": [
    "credit_data.info()"
   ]
  },
  {
   "cell_type": "code",
   "execution_count": 4,
   "id": "293c5a3f",
   "metadata": {},
   "outputs": [
    {
     "data": {
      "text/html": [
       "<div>\n",
       "<style scoped>\n",
       "    .dataframe tbody tr th:only-of-type {\n",
       "        vertical-align: middle;\n",
       "    }\n",
       "\n",
       "    .dataframe tbody tr th {\n",
       "        vertical-align: top;\n",
       "    }\n",
       "\n",
       "    .dataframe thead th {\n",
       "        text-align: right;\n",
       "    }\n",
       "</style>\n",
       "<table border=\"1\" class=\"dataframe\">\n",
       "  <thead>\n",
       "    <tr style=\"text-align: right;\">\n",
       "      <th></th>\n",
       "      <th>AcountNumber</th>\n",
       "      <th>CVV</th>\n",
       "      <th>CustomerAge</th>\n",
       "      <th>Gender</th>\n",
       "      <th>Marital Status</th>\n",
       "      <th>CardColour</th>\n",
       "      <th>CardType</th>\n",
       "      <th>Domain</th>\n",
       "      <th>Amount</th>\n",
       "      <th>AverageIncomeExpendicture</th>\n",
       "      <th>Outcome</th>\n",
       "      <th>Customer_City_Address</th>\n",
       "    </tr>\n",
       "  </thead>\n",
       "  <tbody>\n",
       "    <tr>\n",
       "      <th>0</th>\n",
       "      <td>1275734409</td>\n",
       "      <td>364</td>\n",
       "      <td>28.0</td>\n",
       "      <td>Male</td>\n",
       "      <td>Married</td>\n",
       "      <td>Gold</td>\n",
       "      <td>Verve</td>\n",
       "      <td>Local</td>\n",
       "      <td>129282</td>\n",
       "      <td>170919</td>\n",
       "      <td>0</td>\n",
       "      <td>Enugu</td>\n",
       "    </tr>\n",
       "    <tr>\n",
       "      <th>1</th>\n",
       "      <td>1271246193</td>\n",
       "      <td>401</td>\n",
       "      <td>25.0</td>\n",
       "      <td>Male</td>\n",
       "      <td>Single</td>\n",
       "      <td>Gold</td>\n",
       "      <td>Verve</td>\n",
       "      <td>International</td>\n",
       "      <td>574384</td>\n",
       "      <td>329353</td>\n",
       "      <td>1</td>\n",
       "      <td>Enugu</td>\n",
       "    </tr>\n",
       "    <tr>\n",
       "      <th>2</th>\n",
       "      <td>1242290165</td>\n",
       "      <td>266</td>\n",
       "      <td>21.0</td>\n",
       "      <td>Female</td>\n",
       "      <td>Married</td>\n",
       "      <td>White</td>\n",
       "      <td>Visa</td>\n",
       "      <td>International</td>\n",
       "      <td>190766</td>\n",
       "      <td>292922</td>\n",
       "      <td>0</td>\n",
       "      <td>Enugu</td>\n",
       "    </tr>\n",
       "    <tr>\n",
       "      <th>3</th>\n",
       "      <td>1245478185</td>\n",
       "      <td>402</td>\n",
       "      <td>26.0</td>\n",
       "      <td>Male</td>\n",
       "      <td>Unknown</td>\n",
       "      <td>White</td>\n",
       "      <td>Visa</td>\n",
       "      <td>Local</td>\n",
       "      <td>130395</td>\n",
       "      <td>145444</td>\n",
       "      <td>0</td>\n",
       "      <td>Ibadan</td>\n",
       "    </tr>\n",
       "    <tr>\n",
       "      <th>4</th>\n",
       "      <td>1258212072</td>\n",
       "      <td>334</td>\n",
       "      <td>28.0</td>\n",
       "      <td>Female</td>\n",
       "      <td>Married</td>\n",
       "      <td>Gold</td>\n",
       "      <td>Verve</td>\n",
       "      <td>International</td>\n",
       "      <td>685145</td>\n",
       "      <td>295990</td>\n",
       "      <td>1</td>\n",
       "      <td>Port Harcourt</td>\n",
       "    </tr>\n",
       "  </tbody>\n",
       "</table>\n",
       "</div>"
      ],
      "text/plain": [
       "   AcountNumber  CVV  CustomerAge  Gender Marital Status CardColour CardType  \\\n",
       "0    1275734409  364         28.0    Male        Married       Gold    Verve   \n",
       "1    1271246193  401         25.0    Male         Single       Gold    Verve   \n",
       "2    1242290165  266         21.0  Female        Married      White     Visa   \n",
       "3    1245478185  402         26.0    Male        Unknown      White     Visa   \n",
       "4    1258212072  334         28.0  Female        Married       Gold    Verve   \n",
       "\n",
       "          Domain  Amount  AverageIncomeExpendicture  Outcome  \\\n",
       "0          Local  129282                     170919        0   \n",
       "1  International  574384                     329353        1   \n",
       "2  International  190766                     292922        0   \n",
       "3          Local  130395                     145444        0   \n",
       "4  International  685145                     295990        1   \n",
       "\n",
       "  Customer_City_Address  \n",
       "0                 Enugu  \n",
       "1                 Enugu  \n",
       "2                 Enugu  \n",
       "3                Ibadan  \n",
       "4         Port Harcourt  "
      ]
     },
     "execution_count": 4,
     "metadata": {},
     "output_type": "execute_result"
    }
   ],
   "source": [
    "credit_data.head()"
   ]
  },
  {
   "cell_type": "markdown",
   "id": "078ac149",
   "metadata": {},
   "source": [
    "### Number of missing values by column"
   ]
  },
  {
   "cell_type": "code",
   "execution_count": 5,
   "id": "e6234bed",
   "metadata": {},
   "outputs": [
    {
     "data": {
      "text/html": [
       "<div>\n",
       "<style scoped>\n",
       "    .dataframe tbody tr th:only-of-type {\n",
       "        vertical-align: middle;\n",
       "    }\n",
       "\n",
       "    .dataframe tbody tr th {\n",
       "        vertical-align: top;\n",
       "    }\n",
       "\n",
       "    .dataframe thead th {\n",
       "        text-align: right;\n",
       "    }\n",
       "</style>\n",
       "<table border=\"1\" class=\"dataframe\">\n",
       "  <thead>\n",
       "    <tr style=\"text-align: right;\">\n",
       "      <th></th>\n",
       "      <th>count</th>\n",
       "      <th>%</th>\n",
       "    </tr>\n",
       "  </thead>\n",
       "  <tbody>\n",
       "    <tr>\n",
       "      <th>CustomerAge</th>\n",
       "      <td>8851</td>\n",
       "      <td>23.859072</td>\n",
       "    </tr>\n",
       "    <tr>\n",
       "      <th>AcountNumber</th>\n",
       "      <td>0</td>\n",
       "      <td>0.000000</td>\n",
       "    </tr>\n",
       "    <tr>\n",
       "      <th>CVV</th>\n",
       "      <td>0</td>\n",
       "      <td>0.000000</td>\n",
       "    </tr>\n",
       "    <tr>\n",
       "      <th>Gender</th>\n",
       "      <td>0</td>\n",
       "      <td>0.000000</td>\n",
       "    </tr>\n",
       "    <tr>\n",
       "      <th>Marital Status</th>\n",
       "      <td>0</td>\n",
       "      <td>0.000000</td>\n",
       "    </tr>\n",
       "    <tr>\n",
       "      <th>CardColour</th>\n",
       "      <td>0</td>\n",
       "      <td>0.000000</td>\n",
       "    </tr>\n",
       "    <tr>\n",
       "      <th>CardType</th>\n",
       "      <td>0</td>\n",
       "      <td>0.000000</td>\n",
       "    </tr>\n",
       "    <tr>\n",
       "      <th>Domain</th>\n",
       "      <td>0</td>\n",
       "      <td>0.000000</td>\n",
       "    </tr>\n",
       "    <tr>\n",
       "      <th>Amount</th>\n",
       "      <td>0</td>\n",
       "      <td>0.000000</td>\n",
       "    </tr>\n",
       "    <tr>\n",
       "      <th>AverageIncomeExpendicture</th>\n",
       "      <td>0</td>\n",
       "      <td>0.000000</td>\n",
       "    </tr>\n",
       "    <tr>\n",
       "      <th>Outcome</th>\n",
       "      <td>0</td>\n",
       "      <td>0.000000</td>\n",
       "    </tr>\n",
       "    <tr>\n",
       "      <th>Customer_City_Address</th>\n",
       "      <td>0</td>\n",
       "      <td>0.000000</td>\n",
       "    </tr>\n",
       "  </tbody>\n",
       "</table>\n",
       "</div>"
      ],
      "text/plain": [
       "                           count          %\n",
       "CustomerAge                 8851  23.859072\n",
       "AcountNumber                   0   0.000000\n",
       "CVV                            0   0.000000\n",
       "Gender                         0   0.000000\n",
       "Marital Status                 0   0.000000\n",
       "CardColour                     0   0.000000\n",
       "CardType                       0   0.000000\n",
       "Domain                         0   0.000000\n",
       "Amount                         0   0.000000\n",
       "AverageIncomeExpendicture      0   0.000000\n",
       "Outcome                        0   0.000000\n",
       "Customer_City_Address          0   0.000000"
      ]
     },
     "execution_count": 5,
     "metadata": {},
     "output_type": "execute_result"
    }
   ],
   "source": [
    "missing = pd.concat([credit_data.isnull().sum(), 100 * credit_data.isnull().mean()], axis=1)\n",
    "missing.columns=['count', '%']\n",
    "missing.sort_values(by='count', ascending=False)"
   ]
  },
  {
   "cell_type": "markdown",
   "id": "8c4daef7",
   "metadata": {},
   "source": [
    "### Categorical Features"
   ]
  },
  {
   "cell_type": "code",
   "execution_count": 6,
   "id": "c07221b3",
   "metadata": {},
   "outputs": [
    {
     "data": {
      "text/html": [
       "<div>\n",
       "<style scoped>\n",
       "    .dataframe tbody tr th:only-of-type {\n",
       "        vertical-align: middle;\n",
       "    }\n",
       "\n",
       "    .dataframe tbody tr th {\n",
       "        vertical-align: top;\n",
       "    }\n",
       "\n",
       "    .dataframe thead th {\n",
       "        text-align: right;\n",
       "    }\n",
       "</style>\n",
       "<table border=\"1\" class=\"dataframe\">\n",
       "  <thead>\n",
       "    <tr style=\"text-align: right;\">\n",
       "      <th></th>\n",
       "      <th>Gender</th>\n",
       "      <th>Marital Status</th>\n",
       "      <th>CardColour</th>\n",
       "      <th>CardType</th>\n",
       "      <th>Domain</th>\n",
       "      <th>Customer_City_Address</th>\n",
       "    </tr>\n",
       "  </thead>\n",
       "  <tbody>\n",
       "    <tr>\n",
       "      <th>0</th>\n",
       "      <td>Male</td>\n",
       "      <td>Married</td>\n",
       "      <td>Gold</td>\n",
       "      <td>Verve</td>\n",
       "      <td>Local</td>\n",
       "      <td>Enugu</td>\n",
       "    </tr>\n",
       "    <tr>\n",
       "      <th>1</th>\n",
       "      <td>Male</td>\n",
       "      <td>Single</td>\n",
       "      <td>Gold</td>\n",
       "      <td>Verve</td>\n",
       "      <td>International</td>\n",
       "      <td>Enugu</td>\n",
       "    </tr>\n",
       "    <tr>\n",
       "      <th>2</th>\n",
       "      <td>Female</td>\n",
       "      <td>Married</td>\n",
       "      <td>White</td>\n",
       "      <td>Visa</td>\n",
       "      <td>International</td>\n",
       "      <td>Enugu</td>\n",
       "    </tr>\n",
       "    <tr>\n",
       "      <th>3</th>\n",
       "      <td>Male</td>\n",
       "      <td>Unknown</td>\n",
       "      <td>White</td>\n",
       "      <td>Visa</td>\n",
       "      <td>Local</td>\n",
       "      <td>Ibadan</td>\n",
       "    </tr>\n",
       "    <tr>\n",
       "      <th>4</th>\n",
       "      <td>Female</td>\n",
       "      <td>Married</td>\n",
       "      <td>Gold</td>\n",
       "      <td>Verve</td>\n",
       "      <td>International</td>\n",
       "      <td>Port Harcourt</td>\n",
       "    </tr>\n",
       "    <tr>\n",
       "      <th>...</th>\n",
       "      <td>...</td>\n",
       "      <td>...</td>\n",
       "      <td>...</td>\n",
       "      <td>...</td>\n",
       "      <td>...</td>\n",
       "      <td>...</td>\n",
       "    </tr>\n",
       "    <tr>\n",
       "      <th>37092</th>\n",
       "      <td>Female</td>\n",
       "      <td>Married</td>\n",
       "      <td>Gold</td>\n",
       "      <td>Verve</td>\n",
       "      <td>Local</td>\n",
       "      <td>Lagos</td>\n",
       "    </tr>\n",
       "    <tr>\n",
       "      <th>37093</th>\n",
       "      <td>Male</td>\n",
       "      <td>Divorced</td>\n",
       "      <td>Gold</td>\n",
       "      <td>Verve</td>\n",
       "      <td>Local</td>\n",
       "      <td>Enugu</td>\n",
       "    </tr>\n",
       "    <tr>\n",
       "      <th>37094</th>\n",
       "      <td>Male</td>\n",
       "      <td>Married</td>\n",
       "      <td>White</td>\n",
       "      <td>Visa</td>\n",
       "      <td>International</td>\n",
       "      <td>Abuja</td>\n",
       "    </tr>\n",
       "    <tr>\n",
       "      <th>37095</th>\n",
       "      <td>Female</td>\n",
       "      <td>Unknown</td>\n",
       "      <td>Gold</td>\n",
       "      <td>Verve</td>\n",
       "      <td>International</td>\n",
       "      <td>Port Harcourt</td>\n",
       "    </tr>\n",
       "    <tr>\n",
       "      <th>37096</th>\n",
       "      <td>Male</td>\n",
       "      <td>Married</td>\n",
       "      <td>White</td>\n",
       "      <td>Visa</td>\n",
       "      <td>International</td>\n",
       "      <td>Port Harcourt</td>\n",
       "    </tr>\n",
       "  </tbody>\n",
       "</table>\n",
       "<p>37097 rows × 6 columns</p>\n",
       "</div>"
      ],
      "text/plain": [
       "       Gender Marital Status CardColour CardType         Domain  \\\n",
       "0        Male        Married       Gold    Verve          Local   \n",
       "1        Male         Single       Gold    Verve  International   \n",
       "2      Female        Married      White     Visa  International   \n",
       "3        Male        Unknown      White     Visa          Local   \n",
       "4      Female        Married       Gold    Verve  International   \n",
       "...       ...            ...        ...      ...            ...   \n",
       "37092  Female        Married       Gold    Verve          Local   \n",
       "37093    Male       Divorced       Gold    Verve          Local   \n",
       "37094    Male        Married      White     Visa  International   \n",
       "37095  Female        Unknown       Gold    Verve  International   \n",
       "37096    Male        Married      White     Visa  International   \n",
       "\n",
       "      Customer_City_Address  \n",
       "0                     Enugu  \n",
       "1                     Enugu  \n",
       "2                     Enugu  \n",
       "3                    Ibadan  \n",
       "4             Port Harcourt  \n",
       "...                     ...  \n",
       "37092                 Lagos  \n",
       "37093                 Enugu  \n",
       "37094                 Abuja  \n",
       "37095         Port Harcourt  \n",
       "37096         Port Harcourt  \n",
       "\n",
       "[37097 rows x 6 columns]"
      ]
     },
     "execution_count": 6,
     "metadata": {},
     "output_type": "execute_result"
    }
   ],
   "source": [
    "credit_data.select_dtypes('object')"
   ]
  },
  {
   "cell_type": "markdown",
   "id": "a16b41fc",
   "metadata": {},
   "source": [
    "Renaming the column Martial Status to MaritalStatus"
   ]
  },
  {
   "cell_type": "code",
   "execution_count": 7,
   "id": "b6cb5bb7",
   "metadata": {},
   "outputs": [],
   "source": [
    "credit_data.rename(columns={'Marital Status': 'MaritalStatus'}, inplace=True)"
   ]
  },
  {
   "cell_type": "markdown",
   "id": "1265dbb3",
   "metadata": {},
   "source": [
    "Finding out how many duplicates where both Gender and Martial Status are combined together to see who is processing the most transactions? Maybe there is a pattern in who commits the most fraudulent transactions."
   ]
  },
  {
   "cell_type": "code",
   "execution_count": 8,
   "id": "134fd996",
   "metadata": {},
   "outputs": [
    {
     "data": {
      "text/plain": [
       "Male, Married      10776\n",
       "Male, Single        9002\n",
       "Female, Married     6481\n",
       "Female, Single      5391\n",
       "Male, Divorced      1724\n",
       "dtype: int64"
      ]
     },
     "execution_count": 8,
     "metadata": {},
     "output_type": "execute_result"
    }
   ],
   "source": [
    "(credit_data['Gender'] + ', ' + credit_data['MaritalStatus']).value_counts().head()"
   ]
  },
  {
   "cell_type": "markdown",
   "id": "6b13f14a",
   "metadata": {},
   "source": [
    "Finding out how many duplicates where both Martial Status and Domain are combined together. Seems to me that people who are married commit the most transactions."
   ]
  },
  {
   "cell_type": "code",
   "execution_count": 9,
   "id": "c12b4686",
   "metadata": {},
   "outputs": [
    {
     "data": {
      "text/plain": [
       "Married, International     12329\n",
       "Single, International      10263\n",
       "Married, Local              4928\n",
       "Single, Local               4130\n",
       "Divorced, International     1980\n",
       "dtype: int64"
      ]
     },
     "execution_count": 9,
     "metadata": {},
     "output_type": "execute_result"
    }
   ],
   "source": [
    "(credit_data['MaritalStatus'] + ', ' + credit_data['Domain']).value_counts().head()"
   ]
  },
  {
   "cell_type": "markdown",
   "id": "b06c380a",
   "metadata": {},
   "source": [
    "Finding out if there is any relationship between the card color and type. Since, the card color white has two different card types then we can't possibly remove one of these columns."
   ]
  },
  {
   "cell_type": "code",
   "execution_count": 10,
   "id": "5ce54c50",
   "metadata": {},
   "outputs": [
    {
     "data": {
      "text/plain": [
       "Gold, Verve          18550\n",
       "White, Visa          11289\n",
       "White, MasterCard     7258\n",
       "dtype: int64"
      ]
     },
     "execution_count": 10,
     "metadata": {},
     "output_type": "execute_result"
    }
   ],
   "source": [
    "(credit_data['CardColour'] + ', ' + credit_data['CardType']).value_counts().head()"
   ]
  },
  {
   "cell_type": "markdown",
   "id": "dc57acec",
   "metadata": {},
   "source": [
    "### Numerical Features"
   ]
  },
  {
   "cell_type": "markdown",
   "id": "227c75e9",
   "metadata": {},
   "source": [
    "Checking for duplicates in account number to see if there is a pattern."
   ]
  },
  {
   "cell_type": "code",
   "execution_count": 11,
   "id": "2d0a25b8",
   "metadata": {},
   "outputs": [
    {
     "data": {
      "text/plain": [
       "1269094635    2\n",
       "1276061861    2\n",
       "1259815378    2\n",
       "1285336445    2\n",
       "1257782942    2\n",
       "1284493739    2\n",
       "1278174058    2\n",
       "1252922519    2\n",
       "1242817103    2\n",
       "1248724577    2\n",
       "1287116131    2\n",
       "1251077435    2\n",
       "1268851746    2\n",
       "1260235156    2\n",
       "1269308901    2\n",
       "1265305760    2\n",
       "1282575323    1\n",
       "1265418423    1\n",
       "1276557568    1\n",
       "1243030869    1\n",
       "Name: AcountNumber, dtype: int64"
      ]
     },
     "execution_count": 11,
     "metadata": {},
     "output_type": "execute_result"
    }
   ],
   "source": [
    "(credit_data['AcountNumber']).value_counts().head(20)"
   ]
  },
  {
   "cell_type": "markdown",
   "id": "41df68c6",
   "metadata": {},
   "source": [
    "Filling all null customer age with the mean average."
   ]
  },
  {
   "cell_type": "code",
   "execution_count": 12,
   "id": "575ae35b",
   "metadata": {},
   "outputs": [],
   "source": [
    "credit_data['CustomerAge'] = credit_data['CustomerAge'].fillna(credit_data['CustomerAge'].mean())"
   ]
  },
  {
   "cell_type": "code",
   "execution_count": 13,
   "id": "1c1df368",
   "metadata": {},
   "outputs": [
    {
     "name": "stdout",
     "output_type": "stream",
     "text": [
      "<class 'pandas.core.frame.DataFrame'>\n",
      "RangeIndex: 37097 entries, 0 to 37096\n",
      "Data columns (total 12 columns):\n",
      " #   Column                     Non-Null Count  Dtype  \n",
      "---  ------                     --------------  -----  \n",
      " 0   AcountNumber               37097 non-null  int64  \n",
      " 1   CVV                        37097 non-null  int64  \n",
      " 2   CustomerAge                37097 non-null  float64\n",
      " 3   Gender                     37097 non-null  object \n",
      " 4   MaritalStatus              37097 non-null  object \n",
      " 5   CardColour                 37097 non-null  object \n",
      " 6   CardType                   37097 non-null  object \n",
      " 7   Domain                     37097 non-null  object \n",
      " 8   Amount                     37097 non-null  int64  \n",
      " 9   AverageIncomeExpendicture  37097 non-null  int64  \n",
      " 10  Outcome                    37097 non-null  int64  \n",
      " 11  Customer_City_Address      37097 non-null  object \n",
      "dtypes: float64(1), int64(5), object(6)\n",
      "memory usage: 3.4+ MB\n"
     ]
    }
   ],
   "source": [
    "credit_data.info()"
   ]
  },
  {
   "cell_type": "markdown",
   "id": "1c988766",
   "metadata": {},
   "source": [
    "### Mean averages and Percentages"
   ]
  },
  {
   "cell_type": "markdown",
   "id": "1065e530",
   "metadata": {},
   "source": [
    "Finding the mean average for Amount and AverageIncomeExpendicture."
   ]
  },
  {
   "cell_type": "code",
   "execution_count": 14,
   "id": "036af044",
   "metadata": {},
   "outputs": [
    {
     "data": {
      "text/html": [
       "<div>\n",
       "<style scoped>\n",
       "    .dataframe tbody tr th:only-of-type {\n",
       "        vertical-align: middle;\n",
       "    }\n",
       "\n",
       "    .dataframe tbody tr th {\n",
       "        vertical-align: top;\n",
       "    }\n",
       "\n",
       "    .dataframe thead th {\n",
       "        text-align: right;\n",
       "    }\n",
       "</style>\n",
       "<table border=\"1\" class=\"dataframe\">\n",
       "  <thead>\n",
       "    <tr style=\"text-align: right;\">\n",
       "      <th></th>\n",
       "      <th>Amount</th>\n",
       "      <th>AverageIncomeExpendicture</th>\n",
       "    </tr>\n",
       "    <tr>\n",
       "      <th>Gender</th>\n",
       "      <th></th>\n",
       "      <th></th>\n",
       "    </tr>\n",
       "  </thead>\n",
       "  <tbody>\n",
       "    <tr>\n",
       "      <th>Female</th>\n",
       "      <td>547912.898066</td>\n",
       "      <td>227907.611387</td>\n",
       "    </tr>\n",
       "    <tr>\n",
       "      <th>Male</th>\n",
       "      <td>551669.796774</td>\n",
       "      <td>227074.577029</td>\n",
       "    </tr>\n",
       "  </tbody>\n",
       "</table>\n",
       "</div>"
      ],
      "text/plain": [
       "               Amount  AverageIncomeExpendicture\n",
       "Gender                                          \n",
       "Female  547912.898066              227907.611387\n",
       "Male    551669.796774              227074.577029"
      ]
     },
     "execution_count": 14,
     "metadata": {},
     "output_type": "execute_result"
    }
   ],
   "source": [
    "gender_means = credit_data.groupby('Gender')[['Amount', 'AverageIncomeExpendicture']].mean()\n",
    "gender_means.head()"
   ]
  },
  {
   "cell_type": "code",
   "execution_count": 15,
   "id": "1e30fda6",
   "metadata": {},
   "outputs": [
    {
     "data": {
      "text/html": [
       "<div>\n",
       "<style scoped>\n",
       "    .dataframe tbody tr th:only-of-type {\n",
       "        vertical-align: middle;\n",
       "    }\n",
       "\n",
       "    .dataframe tbody tr th {\n",
       "        vertical-align: top;\n",
       "    }\n",
       "\n",
       "    .dataframe thead th {\n",
       "        text-align: right;\n",
       "    }\n",
       "</style>\n",
       "<table border=\"1\" class=\"dataframe\">\n",
       "  <thead>\n",
       "    <tr style=\"text-align: right;\">\n",
       "      <th></th>\n",
       "      <th>Amount</th>\n",
       "      <th>AverageIncomeExpendicture</th>\n",
       "    </tr>\n",
       "    <tr>\n",
       "      <th>Customer_City_Address</th>\n",
       "      <th></th>\n",
       "      <th></th>\n",
       "    </tr>\n",
       "  </thead>\n",
       "  <tbody>\n",
       "    <tr>\n",
       "      <th>Abuja</th>\n",
       "      <td>546960.543427</td>\n",
       "      <td>227515.907199</td>\n",
       "    </tr>\n",
       "    <tr>\n",
       "      <th>Enugu</th>\n",
       "      <td>551723.983219</td>\n",
       "      <td>228508.967728</td>\n",
       "    </tr>\n",
       "    <tr>\n",
       "      <th>Ibadan</th>\n",
       "      <td>553072.223532</td>\n",
       "      <td>228135.190099</td>\n",
       "    </tr>\n",
       "    <tr>\n",
       "      <th>Kano</th>\n",
       "      <td>551989.348750</td>\n",
       "      <td>228464.383271</td>\n",
       "    </tr>\n",
       "    <tr>\n",
       "      <th>Lagos</th>\n",
       "      <td>551016.711818</td>\n",
       "      <td>225813.338740</td>\n",
       "    </tr>\n",
       "  </tbody>\n",
       "</table>\n",
       "</div>"
      ],
      "text/plain": [
       "                              Amount  AverageIncomeExpendicture\n",
       "Customer_City_Address                                          \n",
       "Abuja                  546960.543427              227515.907199\n",
       "Enugu                  551723.983219              228508.967728\n",
       "Ibadan                 553072.223532              228135.190099\n",
       "Kano                   551989.348750              228464.383271\n",
       "Lagos                  551016.711818              225813.338740"
      ]
     },
     "execution_count": 15,
     "metadata": {},
     "output_type": "execute_result"
    }
   ],
   "source": [
    "customer_city_means = credit_data.groupby('Customer_City_Address')[['Amount', 'AverageIncomeExpendicture']].mean()\n",
    "customer_city_means.head()"
   ]
  },
  {
   "cell_type": "code",
   "execution_count": 16,
   "id": "4db243dd",
   "metadata": {},
   "outputs": [
    {
     "data": {
      "text/html": [
       "<div>\n",
       "<style scoped>\n",
       "    .dataframe tbody tr th:only-of-type {\n",
       "        vertical-align: middle;\n",
       "    }\n",
       "\n",
       "    .dataframe tbody tr th {\n",
       "        vertical-align: top;\n",
       "    }\n",
       "\n",
       "    .dataframe thead th {\n",
       "        text-align: right;\n",
       "    }\n",
       "</style>\n",
       "<table border=\"1\" class=\"dataframe\">\n",
       "  <thead>\n",
       "    <tr style=\"text-align: right;\">\n",
       "      <th></th>\n",
       "      <th>Amount</th>\n",
       "      <th>AverageIncomeExpendicture</th>\n",
       "    </tr>\n",
       "    <tr>\n",
       "      <th>Outcome</th>\n",
       "      <th></th>\n",
       "      <th></th>\n",
       "    </tr>\n",
       "  </thead>\n",
       "  <tbody>\n",
       "    <tr>\n",
       "      <th>0</th>\n",
       "      <td>277735.534286</td>\n",
       "      <td>209412.748227</td>\n",
       "    </tr>\n",
       "    <tr>\n",
       "      <th>1</th>\n",
       "      <td>647113.580234</td>\n",
       "      <td>233774.794410</td>\n",
       "    </tr>\n",
       "  </tbody>\n",
       "</table>\n",
       "</div>"
      ],
      "text/plain": [
       "                Amount  AverageIncomeExpendicture\n",
       "Outcome                                          \n",
       "0        277735.534286              209412.748227\n",
       "1        647113.580234              233774.794410"
      ]
     },
     "execution_count": 16,
     "metadata": {},
     "output_type": "execute_result"
    }
   ],
   "source": [
    "outcome_means = credit_data.groupby('Outcome')[['Amount', 'AverageIncomeExpendicture']].mean()\n",
    "outcome_means.head()"
   ]
  },
  {
   "cell_type": "code",
   "execution_count": 17,
   "id": "cc5fd608",
   "metadata": {},
   "outputs": [
    {
     "data": {
      "text/html": [
       "<div>\n",
       "<style scoped>\n",
       "    .dataframe tbody tr th:only-of-type {\n",
       "        vertical-align: middle;\n",
       "    }\n",
       "\n",
       "    .dataframe tbody tr th {\n",
       "        vertical-align: top;\n",
       "    }\n",
       "\n",
       "    .dataframe thead th {\n",
       "        text-align: right;\n",
       "    }\n",
       "</style>\n",
       "<table border=\"1\" class=\"dataframe\">\n",
       "  <thead>\n",
       "    <tr style=\"text-align: right;\">\n",
       "      <th></th>\n",
       "      <th>Amount</th>\n",
       "      <th>AverageIncomeExpendicture</th>\n",
       "    </tr>\n",
       "    <tr>\n",
       "      <th>AcountNumber</th>\n",
       "      <th></th>\n",
       "      <th></th>\n",
       "    </tr>\n",
       "  </thead>\n",
       "  <tbody>\n",
       "    <tr>\n",
       "      <th>1239297369</th>\n",
       "      <td>416060.0</td>\n",
       "      <td>219725.0</td>\n",
       "    </tr>\n",
       "    <tr>\n",
       "      <th>1239297757</th>\n",
       "      <td>721586.0</td>\n",
       "      <td>190844.0</td>\n",
       "    </tr>\n",
       "    <tr>\n",
       "      <th>1239298985</th>\n",
       "      <td>322428.0</td>\n",
       "      <td>258338.0</td>\n",
       "    </tr>\n",
       "    <tr>\n",
       "      <th>1239299086</th>\n",
       "      <td>611134.0</td>\n",
       "      <td>194377.0</td>\n",
       "    </tr>\n",
       "    <tr>\n",
       "      <th>1239300503</th>\n",
       "      <td>398998.0</td>\n",
       "      <td>179275.0</td>\n",
       "    </tr>\n",
       "  </tbody>\n",
       "</table>\n",
       "</div>"
      ],
      "text/plain": [
       "                Amount  AverageIncomeExpendicture\n",
       "AcountNumber                                     \n",
       "1239297369    416060.0                   219725.0\n",
       "1239297757    721586.0                   190844.0\n",
       "1239298985    322428.0                   258338.0\n",
       "1239299086    611134.0                   194377.0\n",
       "1239300503    398998.0                   179275.0"
      ]
     },
     "execution_count": 17,
     "metadata": {},
     "output_type": "execute_result"
    }
   ],
   "source": [
    "acount_number_means = credit_data.groupby('AcountNumber')[['Amount', 'AverageIncomeExpendicture']].mean()\n",
    "acount_number_means.head()"
   ]
  },
  {
   "cell_type": "markdown",
   "id": "87d3f89b",
   "metadata": {},
   "source": [
    "This will be an imbalenced data set. For every transaction there is roughly a 74% chance the transaction will be fradulent."
   ]
  },
  {
   "cell_type": "code",
   "execution_count": 18,
   "id": "501da80b",
   "metadata": {},
   "outputs": [
    {
     "data": {
      "text/plain": [
       "1    73.779551\n",
       "0    26.220449\n",
       "Name: Outcome, dtype: float64"
      ]
     },
     "execution_count": 18,
     "metadata": {},
     "output_type": "execute_result"
    }
   ],
   "source": [
    "credit_data['Outcome'].value_counts()/len(credit_data['Outcome']) * 100"
   ]
  },
  {
   "cell_type": "markdown",
   "id": "dcb71651",
   "metadata": {},
   "source": [
    "Checking the percentage of fraudlent transactions."
   ]
  },
  {
   "cell_type": "code",
   "execution_count": 21,
   "id": "ffe9fc18",
   "metadata": {},
   "outputs": [
    {
     "name": "stdout",
     "output_type": "stream",
     "text": [
      "37097\n"
     ]
    }
   ],
   "source": [
    "total_transactions = len(credit_data)\n",
    "print(total_transactions)"
   ]
  },
  {
   "cell_type": "code",
   "execution_count": 24,
   "id": "f658d844",
   "metadata": {},
   "outputs": [
    {
     "name": "stdout",
     "output_type": "stream",
     "text": [
      "9727\n"
     ]
    }
   ],
   "source": [
    "normal_transactions = len(credit_data[credit_data['Outcome'] == 0])\n",
    "print(normal_transactions)"
   ]
  },
  {
   "cell_type": "code",
   "execution_count": 25,
   "id": "29b4cab9",
   "metadata": {},
   "outputs": [
    {
     "name": "stdout",
     "output_type": "stream",
     "text": [
      "27370\n"
     ]
    }
   ],
   "source": [
    "fradulent_transactions = len(credit_data[credit_data['Outcome'] == 1])\n",
    "print(fradulent_transactions)"
   ]
  },
  {
   "cell_type": "code",
   "execution_count": 30,
   "id": "e290f3c6",
   "metadata": {},
   "outputs": [
    {
     "name": "stdout",
     "output_type": "stream",
     "text": [
      "281.38\n"
     ]
    }
   ],
   "source": [
    "fraudulent_percentage = round(fradulent_transactions / normal_transactions * 100, 2)\n",
    "print(fraudulent_percentage)"
   ]
  },
  {
   "cell_type": "markdown",
   "id": "c5aeafa1",
   "metadata": {},
   "source": [
    "According to the above transactions there is a 281% chance the tranasction is fradulent."
   ]
  },
  {
   "cell_type": "markdown",
   "id": "157fa13d",
   "metadata": {},
   "source": [
    "### Removing duplicates if there are any"
   ]
  },
  {
   "cell_type": "code",
   "execution_count": 32,
   "id": "673c8159",
   "metadata": {},
   "outputs": [
    {
     "data": {
      "text/plain": [
       "(37097, 12)"
      ]
     },
     "execution_count": 32,
     "metadata": {},
     "output_type": "execute_result"
    }
   ],
   "source": [
    "credit_data.shape"
   ]
  },
  {
   "cell_type": "code",
   "execution_count": 33,
   "id": "5e95f0e9",
   "metadata": {},
   "outputs": [],
   "source": [
    "credit_data.drop_duplicates(inplace=True)"
   ]
  },
  {
   "cell_type": "code",
   "execution_count": 34,
   "id": "c845c138",
   "metadata": {},
   "outputs": [
    {
     "data": {
      "text/plain": [
       "(37097, 12)"
      ]
     },
     "execution_count": 34,
     "metadata": {},
     "output_type": "execute_result"
    }
   ],
   "source": [
    "credit_data.shape"
   ]
  }
 ],
 "metadata": {
  "kernelspec": {
   "display_name": "Python 3 (ipykernel)",
   "language": "python",
   "name": "python3"
  },
  "language_info": {
   "codemirror_mode": {
    "name": "ipython",
    "version": 3
   },
   "file_extension": ".py",
   "mimetype": "text/x-python",
   "name": "python",
   "nbconvert_exporter": "python",
   "pygments_lexer": "ipython3",
   "version": "3.9.12"
  }
 },
 "nbformat": 4,
 "nbformat_minor": 5
}
