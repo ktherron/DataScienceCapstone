{
 "cells": [
  {
   "cell_type": "markdown",
   "id": "7badc0ae",
   "metadata": {},
   "source": [
    "## Exploratory Data Analysis"
   ]
  },
  {
   "cell_type": "markdown",
   "id": "f8128177",
   "metadata": {},
   "source": [
    "### Imports"
   ]
  },
  {
   "cell_type": "code",
   "execution_count": 1,
   "id": "6e151662",
   "metadata": {},
   "outputs": [],
   "source": [
    "import os # accessing directory structure\n",
    "import pandas as pd # data processing, CSV file I/O\n",
    "import numpy as np # data structures, mathematical functions\n",
    "import matplotlib.pyplot as plt # data visulation and ploting\n",
    "import seaborn as sns # data visulation and ploting\n",
    "\n",
    "from sklearn.preprocessing import StandardScaler #scale each feature/varibale to unit variance\n",
    "\n",
    "from save_utils import save_file"
   ]
  },
  {
   "cell_type": "markdown",
   "id": "cc83213c",
   "metadata": {},
   "source": [
    "### Load The Credit Card Data"
   ]
  },
  {
   "cell_type": "code",
   "execution_count": 2,
   "id": "a4622e38",
   "metadata": {},
   "outputs": [],
   "source": [
    "credit_data = pd.read_csv('credit_data_cleaned.csv')"
   ]
  },
  {
   "cell_type": "code",
   "execution_count": 3,
   "id": "9e744d7f",
   "metadata": {},
   "outputs": [
    {
     "name": "stdout",
     "output_type": "stream",
     "text": [
      "<class 'pandas.core.frame.DataFrame'>\n",
      "RangeIndex: 37097 entries, 0 to 37096\n",
      "Data columns (total 12 columns):\n",
      " #   Column                     Non-Null Count  Dtype  \n",
      "---  ------                     --------------  -----  \n",
      " 0   AcountNumber               37097 non-null  int64  \n",
      " 1   CVV                        37097 non-null  int64  \n",
      " 2   CustomerAge                37097 non-null  float64\n",
      " 3   Gender                     37097 non-null  object \n",
      " 4   MaritalStatus              37097 non-null  object \n",
      " 5   CardColour                 37097 non-null  object \n",
      " 6   CardType                   37097 non-null  object \n",
      " 7   Domain                     37097 non-null  object \n",
      " 8   Amount                     37097 non-null  int64  \n",
      " 9   AverageIncomeExpendicture  37097 non-null  int64  \n",
      " 10  Outcome                    37097 non-null  int64  \n",
      " 11  Customer_City_Address      37097 non-null  object \n",
      "dtypes: float64(1), int64(5), object(6)\n",
      "memory usage: 3.4+ MB\n"
     ]
    }
   ],
   "source": [
    "credit_data.info()"
   ]
  },
  {
   "cell_type": "code",
   "execution_count": 4,
   "id": "73b98711",
   "metadata": {},
   "outputs": [
    {
     "data": {
      "text/html": [
       "<div>\n",
       "<style scoped>\n",
       "    .dataframe tbody tr th:only-of-type {\n",
       "        vertical-align: middle;\n",
       "    }\n",
       "\n",
       "    .dataframe tbody tr th {\n",
       "        vertical-align: top;\n",
       "    }\n",
       "\n",
       "    .dataframe thead th {\n",
       "        text-align: right;\n",
       "    }\n",
       "</style>\n",
       "<table border=\"1\" class=\"dataframe\">\n",
       "  <thead>\n",
       "    <tr style=\"text-align: right;\">\n",
       "      <th></th>\n",
       "      <th>AcountNumber</th>\n",
       "      <th>CVV</th>\n",
       "      <th>CustomerAge</th>\n",
       "      <th>Gender</th>\n",
       "      <th>MaritalStatus</th>\n",
       "      <th>CardColour</th>\n",
       "      <th>CardType</th>\n",
       "      <th>Domain</th>\n",
       "      <th>Amount</th>\n",
       "      <th>AverageIncomeExpendicture</th>\n",
       "      <th>Outcome</th>\n",
       "      <th>Customer_City_Address</th>\n",
       "    </tr>\n",
       "  </thead>\n",
       "  <tbody>\n",
       "    <tr>\n",
       "      <th>0</th>\n",
       "      <td>1275734409</td>\n",
       "      <td>364</td>\n",
       "      <td>28.0</td>\n",
       "      <td>Male</td>\n",
       "      <td>Married</td>\n",
       "      <td>Gold</td>\n",
       "      <td>Verve</td>\n",
       "      <td>Local</td>\n",
       "      <td>129282</td>\n",
       "      <td>170919</td>\n",
       "      <td>0</td>\n",
       "      <td>Enugu</td>\n",
       "    </tr>\n",
       "    <tr>\n",
       "      <th>1</th>\n",
       "      <td>1271246193</td>\n",
       "      <td>401</td>\n",
       "      <td>25.0</td>\n",
       "      <td>Male</td>\n",
       "      <td>Single</td>\n",
       "      <td>Gold</td>\n",
       "      <td>Verve</td>\n",
       "      <td>International</td>\n",
       "      <td>574384</td>\n",
       "      <td>329353</td>\n",
       "      <td>1</td>\n",
       "      <td>Enugu</td>\n",
       "    </tr>\n",
       "    <tr>\n",
       "      <th>2</th>\n",
       "      <td>1242290165</td>\n",
       "      <td>266</td>\n",
       "      <td>21.0</td>\n",
       "      <td>Female</td>\n",
       "      <td>Married</td>\n",
       "      <td>White</td>\n",
       "      <td>Visa</td>\n",
       "      <td>International</td>\n",
       "      <td>190766</td>\n",
       "      <td>292922</td>\n",
       "      <td>0</td>\n",
       "      <td>Enugu</td>\n",
       "    </tr>\n",
       "    <tr>\n",
       "      <th>3</th>\n",
       "      <td>1245478185</td>\n",
       "      <td>402</td>\n",
       "      <td>26.0</td>\n",
       "      <td>Male</td>\n",
       "      <td>Unknown</td>\n",
       "      <td>White</td>\n",
       "      <td>Visa</td>\n",
       "      <td>Local</td>\n",
       "      <td>130395</td>\n",
       "      <td>145444</td>\n",
       "      <td>0</td>\n",
       "      <td>Ibadan</td>\n",
       "    </tr>\n",
       "    <tr>\n",
       "      <th>4</th>\n",
       "      <td>1258212072</td>\n",
       "      <td>334</td>\n",
       "      <td>28.0</td>\n",
       "      <td>Female</td>\n",
       "      <td>Married</td>\n",
       "      <td>Gold</td>\n",
       "      <td>Verve</td>\n",
       "      <td>International</td>\n",
       "      <td>685145</td>\n",
       "      <td>295990</td>\n",
       "      <td>1</td>\n",
       "      <td>Port Harcourt</td>\n",
       "    </tr>\n",
       "  </tbody>\n",
       "</table>\n",
       "</div>"
      ],
      "text/plain": [
       "   AcountNumber  CVV  CustomerAge  Gender MaritalStatus CardColour CardType  \\\n",
       "0    1275734409  364         28.0    Male       Married       Gold    Verve   \n",
       "1    1271246193  401         25.0    Male        Single       Gold    Verve   \n",
       "2    1242290165  266         21.0  Female       Married      White     Visa   \n",
       "3    1245478185  402         26.0    Male       Unknown      White     Visa   \n",
       "4    1258212072  334         28.0  Female       Married       Gold    Verve   \n",
       "\n",
       "          Domain  Amount  AverageIncomeExpendicture  Outcome  \\\n",
       "0          Local  129282                     170919        0   \n",
       "1  International  574384                     329353        1   \n",
       "2  International  190766                     292922        0   \n",
       "3          Local  130395                     145444        0   \n",
       "4  International  685145                     295990        1   \n",
       "\n",
       "  Customer_City_Address  \n",
       "0                 Enugu  \n",
       "1                 Enugu  \n",
       "2                 Enugu  \n",
       "3                Ibadan  \n",
       "4         Port Harcourt  "
      ]
     },
     "execution_count": 4,
     "metadata": {},
     "output_type": "execute_result"
    }
   ],
   "source": [
    "credit_data.head()"
   ]
  },
  {
   "cell_type": "code",
   "execution_count": null,
   "id": "ca7866e4",
   "metadata": {},
   "outputs": [],
   "source": []
  }
 ],
 "metadata": {
  "kernelspec": {
   "display_name": "Python 3 (ipykernel)",
   "language": "python",
   "name": "python3"
  },
  "language_info": {
   "codemirror_mode": {
    "name": "ipython",
    "version": 3
   },
   "file_extension": ".py",
   "mimetype": "text/x-python",
   "name": "python",
   "nbconvert_exporter": "python",
   "pygments_lexer": "ipython3",
   "version": "3.9.12"
  }
 },
 "nbformat": 4,
 "nbformat_minor": 5
}
