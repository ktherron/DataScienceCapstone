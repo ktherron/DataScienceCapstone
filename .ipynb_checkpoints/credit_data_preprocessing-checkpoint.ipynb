{
 "cells": [
  {
   "cell_type": "markdown",
   "id": "45ae6646",
   "metadata": {},
   "source": [
    "## Preprocessing and Training"
   ]
  },
  {
   "cell_type": "markdown",
   "id": "c0a08c5d",
   "metadata": {},
   "source": [
    "### Installs"
   ]
  },
  {
   "cell_type": "code",
   "execution_count": 1,
   "id": "2f123f90",
   "metadata": {},
   "outputs": [
    {
     "name": "stdout",
     "output_type": "stream",
     "text": [
      "Requirement already satisfied: imbalanced-learn in /Users/kendallherron/opt/anaconda3/lib/python3.9/site-packages (0.11.0)\n",
      "Requirement already satisfied: scipy>=1.5.0 in /Users/kendallherron/opt/anaconda3/lib/python3.9/site-packages (from imbalanced-learn) (1.7.3)\n",
      "Requirement already satisfied: joblib>=1.1.1 in /Users/kendallherron/opt/anaconda3/lib/python3.9/site-packages (from imbalanced-learn) (1.3.2)\n",
      "Requirement already satisfied: scikit-learn>=1.0.2 in /Users/kendallherron/opt/anaconda3/lib/python3.9/site-packages (from imbalanced-learn) (1.0.2)\n",
      "Requirement already satisfied: numpy>=1.17.3 in /Users/kendallherron/opt/anaconda3/lib/python3.9/site-packages (from imbalanced-learn) (1.21.5)\n",
      "Requirement already satisfied: threadpoolctl>=2.0.0 in /Users/kendallherron/opt/anaconda3/lib/python3.9/site-packages (from imbalanced-learn) (2.2.0)\n"
     ]
    }
   ],
   "source": [
    "!pip install -U imbalanced-learn"
   ]
  },
  {
   "cell_type": "markdown",
   "id": "1f7c1b80",
   "metadata": {},
   "source": [
    "### Imports"
   ]
  },
  {
   "cell_type": "code",
   "execution_count": 2,
   "id": "8b993790",
   "metadata": {},
   "outputs": [],
   "source": [
    "import os # accessing directory structure\n",
    "import pandas as pd # data processing, CSV file I/O\n",
    "import numpy as np # data structures, mathematical functions\n",
    "import matplotlib.pyplot as plt # data visulation and ploting\n",
    "import seaborn as sns # data visulation and ploting\n",
    "\n",
    "#Data preparation\n",
    "from sklearn.preprocessing import StandardScaler #scale each feature/varibale to unit variance\n",
    "from sklearn.model_selection import train_test_split, cross_validate, GridSearchCV, learning_curve\n",
    "from sklearn.dummy import DummyRegressor\n",
    "from sklearn.utils import resample\n",
    "from imblearn.datasets import make_imbalance\n",
    "from imblearn.over_sampling import SMOTE\n",
    "\n",
    "from save_utils import save_file"
   ]
  },
  {
   "cell_type": "markdown",
   "id": "ff4efd96",
   "metadata": {},
   "source": [
    "### Load The Credit Card Data"
   ]
  },
  {
   "cell_type": "code",
   "execution_count": 3,
   "id": "f38992a8",
   "metadata": {},
   "outputs": [],
   "source": [
    "credit_data = pd.read_csv('credit_data_eda.csv')"
   ]
  },
  {
   "cell_type": "code",
   "execution_count": 4,
   "id": "0f22d78f",
   "metadata": {},
   "outputs": [
    {
     "name": "stdout",
     "output_type": "stream",
     "text": [
      "<class 'pandas.core.frame.DataFrame'>\n",
      "RangeIndex: 37097 entries, 0 to 37096\n",
      "Data columns (total 12 columns):\n",
      " #   Column                     Non-Null Count  Dtype  \n",
      "---  ------                     --------------  -----  \n",
      " 0   AcountNumber               37097 non-null  int64  \n",
      " 1   CVV                        37097 non-null  int64  \n",
      " 2   CustomerAge                37097 non-null  float64\n",
      " 3   Gender                     37097 non-null  object \n",
      " 4   MaritalStatus              37097 non-null  object \n",
      " 5   CardColour                 37097 non-null  object \n",
      " 6   CardType                   37097 non-null  object \n",
      " 7   Domain                     37097 non-null  object \n",
      " 8   Amount                     37097 non-null  float64\n",
      " 9   AverageIncomeExpendicture  37097 non-null  int64  \n",
      " 10  Outcome                    37097 non-null  int64  \n",
      " 11  Customer_City_Address      37097 non-null  object \n",
      "dtypes: float64(2), int64(4), object(6)\n",
      "memory usage: 3.4+ MB\n"
     ]
    }
   ],
   "source": [
    "credit_data.info()"
   ]
  },
  {
   "cell_type": "code",
   "execution_count": 5,
   "id": "3f027b82",
   "metadata": {},
   "outputs": [
    {
     "data": {
      "text/html": [
       "<div>\n",
       "<style scoped>\n",
       "    .dataframe tbody tr th:only-of-type {\n",
       "        vertical-align: middle;\n",
       "    }\n",
       "\n",
       "    .dataframe tbody tr th {\n",
       "        vertical-align: top;\n",
       "    }\n",
       "\n",
       "    .dataframe thead th {\n",
       "        text-align: right;\n",
       "    }\n",
       "</style>\n",
       "<table border=\"1\" class=\"dataframe\">\n",
       "  <thead>\n",
       "    <tr style=\"text-align: right;\">\n",
       "      <th></th>\n",
       "      <th>AcountNumber</th>\n",
       "      <th>CVV</th>\n",
       "      <th>CustomerAge</th>\n",
       "      <th>Amount</th>\n",
       "      <th>AverageIncomeExpendicture</th>\n",
       "      <th>Outcome</th>\n",
       "      <th>Gender_Female</th>\n",
       "      <th>Gender_Male</th>\n",
       "      <th>MaritalStatus_Divorced</th>\n",
       "      <th>MaritalStatus_Married</th>\n",
       "      <th>...</th>\n",
       "      <th>Domain_International</th>\n",
       "      <th>Domain_Local</th>\n",
       "      <th>Customer_City_Address_Abuja</th>\n",
       "      <th>Customer_City_Address_Enugu</th>\n",
       "      <th>Customer_City_Address_Ibadan</th>\n",
       "      <th>Customer_City_Address_Kano</th>\n",
       "      <th>Customer_City_Address_Lagos</th>\n",
       "      <th>Customer_City_Address_Ota</th>\n",
       "      <th>Customer_City_Address_Other</th>\n",
       "      <th>Customer_City_Address_Port Harcourt</th>\n",
       "    </tr>\n",
       "  </thead>\n",
       "  <tbody>\n",
       "    <tr>\n",
       "      <th>0</th>\n",
       "      <td>1275734409</td>\n",
       "      <td>364</td>\n",
       "      <td>28.0</td>\n",
       "      <td>-1.615259</td>\n",
       "      <td>170919</td>\n",
       "      <td>0</td>\n",
       "      <td>0</td>\n",
       "      <td>1</td>\n",
       "      <td>0</td>\n",
       "      <td>1</td>\n",
       "      <td>...</td>\n",
       "      <td>0</td>\n",
       "      <td>1</td>\n",
       "      <td>0</td>\n",
       "      <td>1</td>\n",
       "      <td>0</td>\n",
       "      <td>0</td>\n",
       "      <td>0</td>\n",
       "      <td>0</td>\n",
       "      <td>0</td>\n",
       "      <td>0</td>\n",
       "    </tr>\n",
       "    <tr>\n",
       "      <th>1</th>\n",
       "      <td>1271246193</td>\n",
       "      <td>401</td>\n",
       "      <td>25.0</td>\n",
       "      <td>0.092558</td>\n",
       "      <td>329353</td>\n",
       "      <td>1</td>\n",
       "      <td>0</td>\n",
       "      <td>1</td>\n",
       "      <td>0</td>\n",
       "      <td>0</td>\n",
       "      <td>...</td>\n",
       "      <td>1</td>\n",
       "      <td>0</td>\n",
       "      <td>0</td>\n",
       "      <td>1</td>\n",
       "      <td>0</td>\n",
       "      <td>0</td>\n",
       "      <td>0</td>\n",
       "      <td>0</td>\n",
       "      <td>0</td>\n",
       "      <td>0</td>\n",
       "    </tr>\n",
       "    <tr>\n",
       "      <th>2</th>\n",
       "      <td>1242290165</td>\n",
       "      <td>266</td>\n",
       "      <td>21.0</td>\n",
       "      <td>-1.379350</td>\n",
       "      <td>292922</td>\n",
       "      <td>0</td>\n",
       "      <td>1</td>\n",
       "      <td>0</td>\n",
       "      <td>0</td>\n",
       "      <td>1</td>\n",
       "      <td>...</td>\n",
       "      <td>1</td>\n",
       "      <td>0</td>\n",
       "      <td>0</td>\n",
       "      <td>1</td>\n",
       "      <td>0</td>\n",
       "      <td>0</td>\n",
       "      <td>0</td>\n",
       "      <td>0</td>\n",
       "      <td>0</td>\n",
       "      <td>0</td>\n",
       "    </tr>\n",
       "    <tr>\n",
       "      <th>3</th>\n",
       "      <td>1245478185</td>\n",
       "      <td>402</td>\n",
       "      <td>26.0</td>\n",
       "      <td>-1.610989</td>\n",
       "      <td>145444</td>\n",
       "      <td>0</td>\n",
       "      <td>0</td>\n",
       "      <td>1</td>\n",
       "      <td>0</td>\n",
       "      <td>0</td>\n",
       "      <td>...</td>\n",
       "      <td>0</td>\n",
       "      <td>1</td>\n",
       "      <td>0</td>\n",
       "      <td>0</td>\n",
       "      <td>1</td>\n",
       "      <td>0</td>\n",
       "      <td>0</td>\n",
       "      <td>0</td>\n",
       "      <td>0</td>\n",
       "      <td>0</td>\n",
       "    </tr>\n",
       "    <tr>\n",
       "      <th>4</th>\n",
       "      <td>1258212072</td>\n",
       "      <td>334</td>\n",
       "      <td>28.0</td>\n",
       "      <td>0.517538</td>\n",
       "      <td>295990</td>\n",
       "      <td>1</td>\n",
       "      <td>1</td>\n",
       "      <td>0</td>\n",
       "      <td>0</td>\n",
       "      <td>1</td>\n",
       "      <td>...</td>\n",
       "      <td>1</td>\n",
       "      <td>0</td>\n",
       "      <td>0</td>\n",
       "      <td>0</td>\n",
       "      <td>0</td>\n",
       "      <td>0</td>\n",
       "      <td>0</td>\n",
       "      <td>0</td>\n",
       "      <td>0</td>\n",
       "      <td>1</td>\n",
       "    </tr>\n",
       "  </tbody>\n",
       "</table>\n",
       "<p>5 rows × 27 columns</p>\n",
       "</div>"
      ],
      "text/plain": [
       "   AcountNumber  CVV  CustomerAge    Amount  AverageIncomeExpendicture  \\\n",
       "0    1275734409  364         28.0 -1.615259                     170919   \n",
       "1    1271246193  401         25.0  0.092558                     329353   \n",
       "2    1242290165  266         21.0 -1.379350                     292922   \n",
       "3    1245478185  402         26.0 -1.610989                     145444   \n",
       "4    1258212072  334         28.0  0.517538                     295990   \n",
       "\n",
       "   Outcome  Gender_Female  Gender_Male  MaritalStatus_Divorced  \\\n",
       "0        0              0            1                       0   \n",
       "1        1              0            1                       0   \n",
       "2        0              1            0                       0   \n",
       "3        0              0            1                       0   \n",
       "4        1              1            0                       0   \n",
       "\n",
       "   MaritalStatus_Married  ...  Domain_International  Domain_Local  \\\n",
       "0                      1  ...                     0             1   \n",
       "1                      0  ...                     1             0   \n",
       "2                      1  ...                     1             0   \n",
       "3                      0  ...                     0             1   \n",
       "4                      1  ...                     1             0   \n",
       "\n",
       "   Customer_City_Address_Abuja  Customer_City_Address_Enugu  \\\n",
       "0                            0                            1   \n",
       "1                            0                            1   \n",
       "2                            0                            1   \n",
       "3                            0                            0   \n",
       "4                            0                            0   \n",
       "\n",
       "   Customer_City_Address_Ibadan  Customer_City_Address_Kano  \\\n",
       "0                             0                           0   \n",
       "1                             0                           0   \n",
       "2                             0                           0   \n",
       "3                             1                           0   \n",
       "4                             0                           0   \n",
       "\n",
       "   Customer_City_Address_Lagos  Customer_City_Address_Ota  \\\n",
       "0                            0                          0   \n",
       "1                            0                          0   \n",
       "2                            0                          0   \n",
       "3                            0                          0   \n",
       "4                            0                          0   \n",
       "\n",
       "   Customer_City_Address_Other  Customer_City_Address_Port Harcourt  \n",
       "0                            0                                    0  \n",
       "1                            0                                    0  \n",
       "2                            0                                    0  \n",
       "3                            0                                    0  \n",
       "4                            0                                    1  \n",
       "\n",
       "[5 rows x 27 columns]"
      ]
     },
     "execution_count": 5,
     "metadata": {},
     "output_type": "execute_result"
    }
   ],
   "source": [
    "credit_data = pd.get_dummies(credit_data, columns=['Gender', 'MaritalStatus', 'CardColour', 'CardType', 'Domain', 'Customer_City_Address'])\n",
    "credit_data.head()"
   ]
  },
  {
   "cell_type": "markdown",
   "id": "16d6ceb0",
   "metadata": {},
   "source": [
    "### Train/Test Split"
   ]
  },
  {
   "cell_type": "code",
   "execution_count": 6,
   "id": "3a6aa166",
   "metadata": {},
   "outputs": [],
   "source": [
    "X = credit_data.drop('Outcome', axis = 1)\n",
    "y = credit_data['Outcome']"
   ]
  },
  {
   "cell_type": "code",
   "execution_count": 7,
   "id": "5e808e89",
   "metadata": {},
   "outputs": [],
   "source": [
    "X_train, X_test, y_train, y_test = train_test_split(X, y, test_size = 0.25, random_state = 1)"
   ]
  },
  {
   "cell_type": "markdown",
   "id": "c231c13b",
   "metadata": {},
   "source": [
    "### Training Data Mean Predictor"
   ]
  },
  {
   "cell_type": "markdown",
   "id": "6c31bfe7",
   "metadata": {},
   "source": [
    "Using to dummy regressor to fit on the training data."
   ]
  },
  {
   "cell_type": "code",
   "execution_count": 8,
   "id": "d8168a8a",
   "metadata": {},
   "outputs": [
    {
     "data": {
      "text/plain": [
       "array([[0.73783337]])"
      ]
     },
     "execution_count": 8,
     "metadata": {},
     "output_type": "execute_result"
    }
   ],
   "source": [
    "dumb_reg = DummyRegressor(strategy='mean')\n",
    "dumb_reg.fit(X_train, y_train)\n",
    "dumb_reg.constant_"
   ]
  },
  {
   "cell_type": "code",
   "execution_count": 9,
   "id": "529b8123",
   "metadata": {},
   "outputs": [
    {
     "name": "stdout",
     "output_type": "stream",
     "text": [
      "There are 20528 fradulent transactions in this training set, which is 73.783337% of all transactions.\n",
      "There are 6842 fradulent transactions in this testing set, which is 73.768194% of all transactions.\n"
     ]
    }
   ],
   "source": [
    "fradulent_training = sum(y_train)\n",
    "fradulent_training_pct = sum(y_train)/len(y_train)*100\n",
    "fradulent_testing = sum(y_test)\n",
    "fradulent_testing_pct = sum(y_test)/len(y_test)*100\n",
    "print(\"There are {} fradulent transactions in this training set, which is {:2f}% of all transactions.\\nThere are {} fradulent transactions in this testing set, which is {:2f}% of all transactions.\".format(fradulent_training, fradulent_training_pct,\n",
    "                                                                                                                                                                                                            fradulent_testing, fradulent_testing_pct))"
   ]
  },
  {
   "cell_type": "code",
   "execution_count": 10,
   "id": "912775b5",
   "metadata": {},
   "outputs": [
    {
     "data": {
      "text/plain": [
       "1    20528\n",
       "0     7294\n",
       "Name: Outcome, dtype: int64"
      ]
     },
     "execution_count": 10,
     "metadata": {},
     "output_type": "execute_result"
    }
   ],
   "source": [
    "y_train.value_counts()"
   ]
  },
  {
   "cell_type": "code",
   "execution_count": 11,
   "id": "6c987cf6",
   "metadata": {},
   "outputs": [
    {
     "data": {
      "text/plain": [
       "1    27370\n",
       "0     9727\n",
       "Name: Outcome, dtype: int64"
      ]
     },
     "execution_count": 11,
     "metadata": {},
     "output_type": "execute_result"
    }
   ],
   "source": [
    "y.value_counts()"
   ]
  },
  {
   "cell_type": "markdown",
   "id": "0d9a8d5e",
   "metadata": {},
   "source": [
    "### Undersampling"
   ]
  },
  {
   "cell_type": "code",
   "execution_count": 12,
   "id": "7659d165",
   "metadata": {},
   "outputs": [],
   "source": [
    "X_train_1, y_train_1 = make_imbalance(X_train, y_train, sampling_strategy={0: 7000, 1: 7000}, random_state = 1)\n"
   ]
  },
  {
   "cell_type": "code",
   "execution_count": 13,
   "id": "54476441",
   "metadata": {},
   "outputs": [
    {
     "data": {
      "image/png": "[encoded data removed]",
      "text/plain": [
       "<Figure size 432x288 with 1 Axes>"
      ]
     },
     "metadata": {
      "needs_background": "light"
     },
     "output_type": "display_data"
    }
   ],
   "source": [
    "y_train_1.value_counts().plot(kind='bar')\n",
    "plt.title('label balance')\n",
    "plt.xlabel('label values')\n",
    "plt.ylabel('amount per label')\n",
    "plt.show()"
   ]
  },
  {
   "cell_type": "markdown",
   "id": "91cc40a2",
   "metadata": {},
   "source": [
    "### Oversampling"
   ]
  },
  {
   "cell_type": "code",
   "execution_count": 14,
   "id": "6b4f9d5b",
   "metadata": {},
   "outputs": [
    {
     "data": {
      "text/plain": [
       "AcountNumber                             int64\n",
       "CVV                                      int64\n",
       "CustomerAge                            float64\n",
       "Amount                                 float64\n",
       "AverageIncomeExpendicture                int64\n",
       "Gender_Female                            uint8\n",
       "Gender_Male                              uint8\n",
       "MaritalStatus_Divorced                   uint8\n",
       "MaritalStatus_Married                    uint8\n",
       "MaritalStatus_Single                     uint8\n",
       "MaritalStatus_Unknown                    uint8\n",
       "CardColour_Gold                          uint8\n",
       "CardColour_White                         uint8\n",
       "CardType_MasterCard                      uint8\n",
       "CardType_Verve                           uint8\n",
       "CardType_Visa                            uint8\n",
       "Domain_International                     uint8\n",
       "Domain_Local                             uint8\n",
       "Customer_City_Address_Abuja              uint8\n",
       "Customer_City_Address_Enugu              uint8\n",
       "Customer_City_Address_Ibadan             uint8\n",
       "Customer_City_Address_Kano               uint8\n",
       "Customer_City_Address_Lagos              uint8\n",
       "Customer_City_Address_Ota                uint8\n",
       "Customer_City_Address_Other              uint8\n",
       "Customer_City_Address_Port Harcourt      uint8\n",
       "dtype: object"
      ]
     },
     "execution_count": 14,
     "metadata": {},
     "output_type": "execute_result"
    }
   ],
   "source": [
    "X_train.dtypes"
   ]
  },
  {
   "cell_type": "code",
   "execution_count": 15,
   "id": "3a46d145",
   "metadata": {},
   "outputs": [],
   "source": [
    "smote = SMOTE(random_state = 1)\n",
    "X_train_3, y_train_3 = smote.fit_resample(X_train, y_train)"
   ]
  },
  {
   "cell_type": "code",
   "execution_count": 16,
   "id": "a99ac14c",
   "metadata": {},
   "outputs": [
    {
     "data": {
      "text/plain": [
       "1    20528\n",
       "0    20528\n",
       "Name: Outcome, dtype: int64"
      ]
     },
     "execution_count": 16,
     "metadata": {},
     "output_type": "execute_result"
    }
   ],
   "source": [
    "y_train_3.value_counts()"
   ]
  },
  {
   "cell_type": "code",
   "execution_count": 17,
   "id": "fad8a641",
   "metadata": {},
   "outputs": [
    {
     "data": {
      "image/png": "[encoded data removed]",
      "text/plain": [
       "<Figure size 432x288 with 1 Axes>"
      ]
     },
     "metadata": {
      "needs_background": "light"
     },
     "output_type": "display_data"
    }
   ],
   "source": [
    "y_train_3.value_counts().plot(kind='bar')\n",
    "plt.title('label balance')\n",
    "plt.xlabel('label values')\n",
    "plt.ylabel('amount per label')\n",
    "plt.show()"
   ]
  },
  {
   "cell_type": "code",
   "execution_count": null,
   "id": "fd3f160e",
   "metadata": {},
   "outputs": [],
   "source": []
  }
 ],
 "metadata": {
  "kernelspec": {
   "display_name": "Python 3 (ipykernel)",
   "language": "python",
   "name": "python3"
  },
  "language_info": {
   "codemirror_mode": {
    "name": "ipython",
    "version": 3
   },
   "file_extension": ".py",
   "mimetype": "text/x-python",
   "name": "python",
   "nbconvert_exporter": "python",
   "pygments_lexer": "ipython3",
   "version": "3.9.12"
  }
 },
 "nbformat": 4,
 "nbformat_minor": 5
}
