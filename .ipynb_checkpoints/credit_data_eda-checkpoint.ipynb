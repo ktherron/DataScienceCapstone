{
 "cells": [
  {
   "cell_type": "markdown",
   "id": "69b83ffe",
   "metadata": {},
   "source": [
    "## Exploratory Data Analysis"
   ]
  },
  {
   "cell_type": "markdown",
   "id": "ac81e25c",
   "metadata": {},
   "source": [
    "### Imports"
   ]
  },
  {
   "cell_type": "code",
   "execution_count": null,
   "id": "561ec3f3",
   "metadata": {},
   "outputs": [],
   "source": [
    "import os # accessing directory structure\n",
    "import pandas as pd # data processing, CSV file I/O\n",
    "import numpy as np # data structures, mathematical functions\n",
    "import matplotlib.pyplot as plt # data visulation and ploting\n",
    "import seaborn as sns # data visulation and ploting\n",
    "\n",
    "from sklearn.preprocessing import StandardScaler #scale each feature/varibale to unit variance\n",
    "\n",
    "from library.sb_utils import save_file"
   ]
  }
 ],
 "metadata": {
  "kernelspec": {
   "display_name": "Python 3 (ipykernel)",
   "language": "python",
   "name": "python3"
  },
  "language_info": {
   "codemirror_mode": {
    "name": "ipython",
    "version": 3
   },
   "file_extension": ".py",
   "mimetype": "text/x-python",
   "name": "python",
   "nbconvert_exporter": "python",
   "pygments_lexer": "ipython3",
   "version": "3.9.12"
  }
 },
 "nbformat": 4,
 "nbformat_minor": 5
}
