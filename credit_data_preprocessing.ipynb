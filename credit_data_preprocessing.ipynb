{
 "cells": [
  {
   "cell_type": "markdown",
   "id": "45ae6646",
   "metadata": {},
   "source": [
    "## Preprocessing and Training"
   ]
  },
  {
   "cell_type": "markdown",
   "id": "c0a08c5d",
   "metadata": {},
   "source": [
    "### Installs"
   ]
  },
  {
   "cell_type": "code",
   "execution_count": 1,
   "id": "2f123f90",
   "metadata": {},
   "outputs": [
    {
     "name": "stdout",
     "output_type": "stream",
     "text": [
      "Requirement already satisfied: imbalanced-learn in /Users/kendallherron/opt/anaconda3/lib/python3.9/site-packages (0.11.0)\n",
      "Requirement already satisfied: numpy>=1.17.3 in /Users/kendallherron/opt/anaconda3/lib/python3.9/site-packages (from imbalanced-learn) (1.21.5)\n",
      "Requirement already satisfied: joblib>=1.1.1 in /Users/kendallherron/opt/anaconda3/lib/python3.9/site-packages (from imbalanced-learn) (1.3.2)\n",
      "Requirement already satisfied: threadpoolctl>=2.0.0 in /Users/kendallherron/opt/anaconda3/lib/python3.9/site-packages (from imbalanced-learn) (2.2.0)\n",
      "Requirement already satisfied: scipy>=1.5.0 in /Users/kendallherron/opt/anaconda3/lib/python3.9/site-packages (from imbalanced-learn) (1.7.3)\n",
      "Requirement already satisfied: scikit-learn>=1.0.2 in /Users/kendallherron/opt/anaconda3/lib/python3.9/site-packages (from imbalanced-learn) (1.0.2)\n"
     ]
    }
   ],
   "source": [
    "!pip install -U imbalanced-learn"
   ]
  },
  {
   "cell_type": "code",
   "execution_count": 2,
   "id": "24bca978",
   "metadata": {},
   "outputs": [
    {
     "name": "stdout",
     "output_type": "stream",
     "text": [
      "Requirement already satisfied: pycaret in /Users/kendallherron/opt/anaconda3/lib/python3.9/site-packages (3.0.4)\n",
      "Requirement already satisfied: category-encoders>=2.4.0 in /Users/kendallherron/opt/anaconda3/lib/python3.9/site-packages (from pycaret) (2.6.2)\n",
      "Requirement already satisfied: yellowbrick>=1.4 in /Users/kendallherron/opt/anaconda3/lib/python3.9/site-packages (from pycaret) (1.5)\n",
      "Requirement already satisfied: wurlitzer in /Users/kendallherron/opt/anaconda3/lib/python3.9/site-packages (from pycaret) (3.0.2)\n",
      "Requirement already satisfied: requests>=2.27.1 in /Users/kendallherron/opt/anaconda3/lib/python3.9/site-packages (from pycaret) (2.27.1)\n",
      "Requirement already satisfied: matplotlib>=3.3.0 in /Users/kendallherron/opt/anaconda3/lib/python3.9/site-packages (from pycaret) (3.5.1)\n",
      "Requirement already satisfied: numpy<1.24,>=1.21 in /Users/kendallherron/opt/anaconda3/lib/python3.9/site-packages (from pycaret) (1.21.5)\n",
      "Requirement already satisfied: tqdm>=4.62.0 in /Users/kendallherron/opt/anaconda3/lib/python3.9/site-packages (from pycaret) (4.64.0)\n",
      "Requirement already satisfied: kaleido>=0.2.1 in /Users/kendallherron/opt/anaconda3/lib/python3.9/site-packages (from pycaret) (0.2.1)\n",
      "Requirement already satisfied: numba>=0.55.0 in /Users/kendallherron/opt/anaconda3/lib/python3.9/site-packages (from pycaret) (0.55.1)\n",
      "Requirement already satisfied: plotly-resampler>=0.8.3.1 in /Users/kendallherron/opt/anaconda3/lib/python3.9/site-packages (from pycaret) (0.9.1)\n",
      "Requirement already satisfied: ipython>=5.5.0 in /Users/kendallherron/opt/anaconda3/lib/python3.9/site-packages (from pycaret) (8.2.0)\n",
      "Requirement already satisfied: schemdraw==0.15 in /Users/kendallherron/opt/anaconda3/lib/python3.9/site-packages (from pycaret) (0.15)\n",
      "Requirement already satisfied: pyod>=1.0.8 in /Users/kendallherron/opt/anaconda3/lib/python3.9/site-packages (from pycaret) (1.1.0)\n",
      "Requirement already satisfied: importlib-metadata>=4.12.0 in /Users/kendallherron/opt/anaconda3/lib/python3.9/site-packages (from pycaret) (6.8.0)\n",
      "Requirement already satisfied: tbats>=1.1.3 in /Users/kendallherron/opt/anaconda3/lib/python3.9/site-packages (from pycaret) (1.1.3)\n",
      "Requirement already satisfied: plotly>=5.0.0 in /Users/kendallherron/opt/anaconda3/lib/python3.9/site-packages (from pycaret) (5.6.0)\n",
      "Requirement already satisfied: jinja2>=1.2 in /Users/kendallherron/opt/anaconda3/lib/python3.9/site-packages (from pycaret) (2.11.3)\n",
      "Requirement already satisfied: cloudpickle in /Users/kendallherron/opt/anaconda3/lib/python3.9/site-packages (from pycaret) (2.0.0)\n",
      "Requirement already satisfied: sktime!=0.17.1,!=0.17.2,!=0.18.0,>=0.16.1 in /Users/kendallherron/opt/anaconda3/lib/python3.9/site-packages (from pycaret) (0.22.0)\n",
      "Requirement already satisfied: pmdarima!=1.8.1,<3.0.0,>=1.8.0 in /Users/kendallherron/opt/anaconda3/lib/python3.9/site-packages (from pycaret) (2.0.3)\n",
      "Requirement already satisfied: scikit-learn<1.3.0,>=1.0 in /Users/kendallherron/opt/anaconda3/lib/python3.9/site-packages (from pycaret) (1.0.2)\n",
      "Requirement already satisfied: imbalanced-learn>=0.8.1 in /Users/kendallherron/opt/anaconda3/lib/python3.9/site-packages (from pycaret) (0.11.0)\n",
      "Requirement already satisfied: nbformat>=4.2.0 in /Users/kendallherron/opt/anaconda3/lib/python3.9/site-packages (from pycaret) (5.3.0)\n",
      "Requirement already satisfied: scikit-plot>=0.3.7 in /Users/kendallherron/opt/anaconda3/lib/python3.9/site-packages (from pycaret) (0.3.7)\n",
      "Requirement already satisfied: pandas<2.0.0,>=1.3.0 in /Users/kendallherron/opt/anaconda3/lib/python3.9/site-packages (from pycaret) (1.4.2)\n",
      "Requirement already satisfied: markupsafe>=2.0.1 in /Users/kendallherron/opt/anaconda3/lib/python3.9/site-packages (from pycaret) (2.0.1)\n",
      "Requirement already satisfied: joblib>=1.2.0 in /Users/kendallherron/opt/anaconda3/lib/python3.9/site-packages (from pycaret) (1.3.2)\n",
      "Requirement already satisfied: psutil>=5.9.0 in /Users/kendallherron/opt/anaconda3/lib/python3.9/site-packages (from pycaret) (5.9.5)\n",
      "Requirement already satisfied: lightgbm>=3.0.0 in /Users/kendallherron/opt/anaconda3/lib/python3.9/site-packages (from pycaret) (4.0.0)\n",
      "Requirement already satisfied: deprecation>=2.1.0 in /Users/kendallherron/opt/anaconda3/lib/python3.9/site-packages (from pycaret) (2.1.0)\n",
      "Requirement already satisfied: scipy<2.0.0 in /Users/kendallherron/opt/anaconda3/lib/python3.9/site-packages (from pycaret) (1.7.3)\n",
      "Requirement already satisfied: xxhash in /Users/kendallherron/opt/anaconda3/lib/python3.9/site-packages (from pycaret) (3.3.0)\n",
      "Requirement already satisfied: ipywidgets>=7.6.5 in /Users/kendallherron/opt/anaconda3/lib/python3.9/site-packages (from pycaret) (7.6.5)\n",
      "Requirement already satisfied: statsmodels>=0.12.1 in /Users/kendallherron/opt/anaconda3/lib/python3.9/site-packages (from pycaret) (0.13.2)\n",
      "Requirement already satisfied: patsy>=0.5.1 in /Users/kendallherron/opt/anaconda3/lib/python3.9/site-packages (from category-encoders>=2.4.0->pycaret) (0.5.2)\n",
      "Requirement already satisfied: packaging in /Users/kendallherron/opt/anaconda3/lib/python3.9/site-packages (from deprecation>=2.1.0->pycaret) (21.3)\n",
      "Requirement already satisfied: threadpoolctl>=2.0.0 in /Users/kendallherron/opt/anaconda3/lib/python3.9/site-packages (from imbalanced-learn>=0.8.1->pycaret) (2.2.0)\n",
      "Requirement already satisfied: zipp>=0.5 in /Users/kendallherron/opt/anaconda3/lib/python3.9/site-packages (from importlib-metadata>=4.12.0->pycaret) (3.7.0)\n",
      "Requirement already satisfied: prompt-toolkit!=3.0.0,!=3.0.1,<3.1.0,>=2.0.0 in /Users/kendallherron/opt/anaconda3/lib/python3.9/site-packages (from ipython>=5.5.0->pycaret) (3.0.20)\n",
      "Requirement already satisfied: decorator in /Users/kendallherron/opt/anaconda3/lib/python3.9/site-packages (from ipython>=5.5.0->pycaret) (5.1.1)\n",
      "Requirement already satisfied: backcall in /Users/kendallherron/opt/anaconda3/lib/python3.9/site-packages (from ipython>=5.5.0->pycaret) (0.2.0)\n",
      "Requirement already satisfied: pickleshare in /Users/kendallherron/opt/anaconda3/lib/python3.9/site-packages (from ipython>=5.5.0->pycaret) (0.7.5)\n",
      "Requirement already satisfied: pexpect>4.3 in /Users/kendallherron/opt/anaconda3/lib/python3.9/site-packages (from ipython>=5.5.0->pycaret) (4.8.0)\n",
      "Requirement already satisfied: matplotlib-inline in /Users/kendallherron/opt/anaconda3/lib/python3.9/site-packages (from ipython>=5.5.0->pycaret) (0.1.2)\n",
      "Requirement already satisfied: stack-data in /Users/kendallherron/opt/anaconda3/lib/python3.9/site-packages (from ipython>=5.5.0->pycaret) (0.2.0)\n",
      "Requirement already satisfied: jedi>=0.16 in /Users/kendallherron/opt/anaconda3/lib/python3.9/site-packages (from ipython>=5.5.0->pycaret) (0.18.1)\n",
      "Requirement already satisfied: appnope in /Users/kendallherron/opt/anaconda3/lib/python3.9/site-packages (from ipython>=5.5.0->pycaret) (0.1.2)\n",
      "Requirement already satisfied: pygments>=2.4.0 in /Users/kendallherron/opt/anaconda3/lib/python3.9/site-packages (from ipython>=5.5.0->pycaret) (2.11.2)\n",
      "Requirement already satisfied: setuptools>=18.5 in /Users/kendallherron/opt/anaconda3/lib/python3.9/site-packages (from ipython>=5.5.0->pycaret) (61.2.0)\n",
      "Requirement already satisfied: traitlets>=5 in /Users/kendallherron/opt/anaconda3/lib/python3.9/site-packages (from ipython>=5.5.0->pycaret) (5.1.1)\n",
      "Requirement already satisfied: ipykernel>=4.5.1 in /Users/kendallherron/opt/anaconda3/lib/python3.9/site-packages (from ipywidgets>=7.6.5->pycaret) (6.9.1)\n",
      "Requirement already satisfied: jupyterlab-widgets>=1.0.0 in /Users/kendallherron/opt/anaconda3/lib/python3.9/site-packages (from ipywidgets>=7.6.5->pycaret) (1.0.0)\n",
      "Requirement already satisfied: ipython-genutils~=0.2.0 in /Users/kendallherron/opt/anaconda3/lib/python3.9/site-packages (from ipywidgets>=7.6.5->pycaret) (0.2.0)\n",
      "Requirement already satisfied: widgetsnbextension~=3.5.0 in /Users/kendallherron/opt/anaconda3/lib/python3.9/site-packages (from ipywidgets>=7.6.5->pycaret) (3.5.2)\n",
      "Requirement already satisfied: jupyter-client<8.0 in /Users/kendallherron/opt/anaconda3/lib/python3.9/site-packages (from ipykernel>=4.5.1->ipywidgets>=7.6.5->pycaret) (6.1.12)\n",
      "Requirement already satisfied: tornado<7.0,>=4.2 in /Users/kendallherron/opt/anaconda3/lib/python3.9/site-packages (from ipykernel>=4.5.1->ipywidgets>=7.6.5->pycaret) (6.1)\n",
      "Requirement already satisfied: debugpy<2.0,>=1.0.0 in /Users/kendallherron/opt/anaconda3/lib/python3.9/site-packages (from ipykernel>=4.5.1->ipywidgets>=7.6.5->pycaret) (1.5.1)\n",
      "Requirement already satisfied: nest-asyncio in /Users/kendallherron/opt/anaconda3/lib/python3.9/site-packages (from ipykernel>=4.5.1->ipywidgets>=7.6.5->pycaret) (1.5.5)\n",
      "Requirement already satisfied: parso<0.9.0,>=0.8.0 in /Users/kendallherron/opt/anaconda3/lib/python3.9/site-packages (from jedi>=0.16->ipython>=5.5.0->pycaret) (0.8.3)\n"
     ]
    },
    {
     "name": "stdout",
     "output_type": "stream",
     "text": [
      "Requirement already satisfied: python-dateutil>=2.1 in /Users/kendallherron/opt/anaconda3/lib/python3.9/site-packages (from jupyter-client<8.0->ipykernel>=4.5.1->ipywidgets>=7.6.5->pycaret) (2.8.2)\n",
      "Requirement already satisfied: jupyter-core>=4.6.0 in /Users/kendallherron/opt/anaconda3/lib/python3.9/site-packages (from jupyter-client<8.0->ipykernel>=4.5.1->ipywidgets>=7.6.5->pycaret) (4.9.2)\n",
      "Requirement already satisfied: pyzmq>=13 in /Users/kendallherron/opt/anaconda3/lib/python3.9/site-packages (from jupyter-client<8.0->ipykernel>=4.5.1->ipywidgets>=7.6.5->pycaret) (22.3.0)\n",
      "Requirement already satisfied: cycler>=0.10 in /Users/kendallherron/opt/anaconda3/lib/python3.9/site-packages (from matplotlib>=3.3.0->pycaret) (0.11.0)\n",
      "Requirement already satisfied: kiwisolver>=1.0.1 in /Users/kendallherron/opt/anaconda3/lib/python3.9/site-packages (from matplotlib>=3.3.0->pycaret) (1.3.2)\n",
      "Requirement already satisfied: fonttools>=4.22.0 in /Users/kendallherron/opt/anaconda3/lib/python3.9/site-packages (from matplotlib>=3.3.0->pycaret) (4.25.0)\n",
      "Requirement already satisfied: pillow>=6.2.0 in /Users/kendallherron/opt/anaconda3/lib/python3.9/site-packages (from matplotlib>=3.3.0->pycaret) (9.0.1)\n",
      "Requirement already satisfied: pyparsing>=2.2.1 in /Users/kendallherron/opt/anaconda3/lib/python3.9/site-packages (from matplotlib>=3.3.0->pycaret) (3.0.4)\n",
      "Requirement already satisfied: jsonschema>=2.6 in /Users/kendallherron/opt/anaconda3/lib/python3.9/site-packages (from nbformat>=4.2.0->pycaret) (4.4.0)\n",
      "Requirement already satisfied: fastjsonschema in /Users/kendallherron/opt/anaconda3/lib/python3.9/site-packages (from nbformat>=4.2.0->pycaret) (2.15.1)\n",
      "Requirement already satisfied: pyrsistent!=0.17.0,!=0.17.1,!=0.17.2,>=0.14.0 in /Users/kendallherron/opt/anaconda3/lib/python3.9/site-packages (from jsonschema>=2.6->nbformat>=4.2.0->pycaret) (0.18.0)\n",
      "Requirement already satisfied: attrs>=17.4.0 in /Users/kendallherron/opt/anaconda3/lib/python3.9/site-packages (from jsonschema>=2.6->nbformat>=4.2.0->pycaret) (21.4.0)\n",
      "Requirement already satisfied: llvmlite<0.39,>=0.38.0rc1 in /Users/kendallherron/opt/anaconda3/lib/python3.9/site-packages (from numba>=0.55.0->pycaret) (0.38.0)\n",
      "Requirement already satisfied: pytz>=2020.1 in /Users/kendallherron/opt/anaconda3/lib/python3.9/site-packages (from pandas<2.0.0,>=1.3.0->pycaret) (2021.3)\n",
      "Requirement already satisfied: six in /Users/kendallherron/opt/anaconda3/lib/python3.9/site-packages (from patsy>=0.5.1->category-encoders>=2.4.0->pycaret) (1.16.0)\n",
      "Requirement already satisfied: ptyprocess>=0.5 in /Users/kendallherron/opt/anaconda3/lib/python3.9/site-packages (from pexpect>4.3->ipython>=5.5.0->pycaret) (0.7.0)\n",
      "Requirement already satisfied: tenacity>=6.2.0 in /Users/kendallherron/opt/anaconda3/lib/python3.9/site-packages (from plotly>=5.0.0->pycaret) (8.0.1)\n",
      "Requirement already satisfied: orjson<4.0.0,>=3.8.0 in /Users/kendallherron/opt/anaconda3/lib/python3.9/site-packages (from plotly-resampler>=0.8.3.1->pycaret) (3.9.5)\n",
      "Requirement already satisfied: trace-updater>=0.0.8 in /Users/kendallherron/opt/anaconda3/lib/python3.9/site-packages (from plotly-resampler>=0.8.3.1->pycaret) (0.0.9.1)\n",
      "Requirement already satisfied: tsdownsample==0.1.2 in /Users/kendallherron/opt/anaconda3/lib/python3.9/site-packages (from plotly-resampler>=0.8.3.1->pycaret) (0.1.2)\n",
      "Requirement already satisfied: dash<3.0.0,>=2.11.0 in /Users/kendallherron/opt/anaconda3/lib/python3.9/site-packages (from plotly-resampler>=0.8.3.1->pycaret) (2.12.1)\n",
      "Requirement already satisfied: Flask<2.3.0,>=1.0.4 in /Users/kendallherron/opt/anaconda3/lib/python3.9/site-packages (from dash<3.0.0,>=2.11.0->plotly-resampler>=0.8.3.1->pycaret) (1.1.2)\n",
      "Requirement already satisfied: typing-extensions>=4.1.1 in /Users/kendallherron/opt/anaconda3/lib/python3.9/site-packages (from dash<3.0.0,>=2.11.0->plotly-resampler>=0.8.3.1->pycaret) (4.4.0)\n",
      "Requirement already satisfied: dash-table==5.0.0 in /Users/kendallherron/opt/anaconda3/lib/python3.9/site-packages (from dash<3.0.0,>=2.11.0->plotly-resampler>=0.8.3.1->pycaret) (5.0.0)\n",
      "Requirement already satisfied: ansi2html in /Users/kendallherron/opt/anaconda3/lib/python3.9/site-packages (from dash<3.0.0,>=2.11.0->plotly-resampler>=0.8.3.1->pycaret) (1.8.0)\n",
      "Requirement already satisfied: retrying in /Users/kendallherron/opt/anaconda3/lib/python3.9/site-packages (from dash<3.0.0,>=2.11.0->plotly-resampler>=0.8.3.1->pycaret) (1.3.4)\n",
      "Requirement already satisfied: dash-core-components==2.0.0 in /Users/kendallherron/opt/anaconda3/lib/python3.9/site-packages (from dash<3.0.0,>=2.11.0->plotly-resampler>=0.8.3.1->pycaret) (2.0.0)\n",
      "Requirement already satisfied: Werkzeug<2.3.0 in /Users/kendallherron/opt/anaconda3/lib/python3.9/site-packages (from dash<3.0.0,>=2.11.0->plotly-resampler>=0.8.3.1->pycaret) (2.0.3)\n",
      "Requirement already satisfied: dash-html-components==2.0.0 in /Users/kendallherron/opt/anaconda3/lib/python3.9/site-packages (from dash<3.0.0,>=2.11.0->plotly-resampler>=0.8.3.1->pycaret) (2.0.0)\n",
      "Requirement already satisfied: click>=5.1 in /Users/kendallherron/opt/anaconda3/lib/python3.9/site-packages (from Flask<2.3.0,>=1.0.4->dash<3.0.0,>=2.11.0->plotly-resampler>=0.8.3.1->pycaret) (8.0.4)\n",
      "Requirement already satisfied: itsdangerous>=0.24 in /Users/kendallherron/opt/anaconda3/lib/python3.9/site-packages (from Flask<2.3.0,>=1.0.4->dash<3.0.0,>=2.11.0->plotly-resampler>=0.8.3.1->pycaret) (2.0.1)\n",
      "Requirement already satisfied: urllib3 in /Users/kendallherron/opt/anaconda3/lib/python3.9/site-packages (from pmdarima!=1.8.1,<3.0.0,>=1.8.0->pycaret) (1.26.9)\n",
      "Requirement already satisfied: Cython!=0.29.18,!=0.29.31,>=0.29 in /Users/kendallherron/opt/anaconda3/lib/python3.9/site-packages (from pmdarima!=1.8.1,<3.0.0,>=1.8.0->pycaret) (0.29.28)\n",
      "Requirement already satisfied: wcwidth in /Users/kendallherron/opt/anaconda3/lib/python3.9/site-packages (from prompt-toolkit!=3.0.0,!=3.0.1,<3.1.0,>=2.0.0->ipython>=5.5.0->pycaret) (0.2.5)\n",
      "Requirement already satisfied: certifi>=2017.4.17 in /Users/kendallherron/opt/anaconda3/lib/python3.9/site-packages (from requests>=2.27.1->pycaret) (2023.7.22)\n",
      "Requirement already satisfied: charset-normalizer~=2.0.0 in /Users/kendallherron/opt/anaconda3/lib/python3.9/site-packages (from requests>=2.27.1->pycaret) (2.0.4)\n",
      "Requirement already satisfied: idna<4,>=2.5 in /Users/kendallherron/opt/anaconda3/lib/python3.9/site-packages (from requests>=2.27.1->pycaret) (3.3)\n",
      "Requirement already satisfied: scikit-base<0.6.0 in /Users/kendallherron/opt/anaconda3/lib/python3.9/site-packages (from sktime!=0.17.1,!=0.17.2,!=0.18.0,>=0.16.1->pycaret) (0.5.1)\n",
      "Requirement already satisfied: notebook>=4.4.1 in /Users/kendallherron/opt/anaconda3/lib/python3.9/site-packages (from widgetsnbextension~=3.5.0->ipywidgets>=7.6.5->pycaret) (6.4.8)\n",
      "Requirement already satisfied: nbconvert in /Users/kendallherron/opt/anaconda3/lib/python3.9/site-packages (from notebook>=4.4.1->widgetsnbextension~=3.5.0->ipywidgets>=7.6.5->pycaret) (6.4.4)\n",
      "Requirement already satisfied: Send2Trash>=1.8.0 in /Users/kendallherron/opt/anaconda3/lib/python3.9/site-packages (from notebook>=4.4.1->widgetsnbextension~=3.5.0->ipywidgets>=7.6.5->pycaret) (1.8.0)\n",
      "Requirement already satisfied: terminado>=0.8.3 in /Users/kendallherron/opt/anaconda3/lib/python3.9/site-packages (from notebook>=4.4.1->widgetsnbextension~=3.5.0->ipywidgets>=7.6.5->pycaret) (0.13.1)\n",
      "Requirement already satisfied: argon2-cffi in /Users/kendallherron/opt/anaconda3/lib/python3.9/site-packages (from notebook>=4.4.1->widgetsnbextension~=3.5.0->ipywidgets>=7.6.5->pycaret) (21.3.0)\n",
      "Requirement already satisfied: prometheus-client in /Users/kendallherron/opt/anaconda3/lib/python3.9/site-packages (from notebook>=4.4.1->widgetsnbextension~=3.5.0->ipywidgets>=7.6.5->pycaret) (0.13.1)\n",
      "Requirement already satisfied: argon2-cffi-bindings in /Users/kendallherron/opt/anaconda3/lib/python3.9/site-packages (from argon2-cffi->notebook>=4.4.1->widgetsnbextension~=3.5.0->ipywidgets>=7.6.5->pycaret) (21.2.0)\n",
      "Requirement already satisfied: cffi>=1.0.1 in /Users/kendallherron/opt/anaconda3/lib/python3.9/site-packages (from argon2-cffi-bindings->argon2-cffi->notebook>=4.4.1->widgetsnbextension~=3.5.0->ipywidgets>=7.6.5->pycaret) (1.15.0)\n",
      "Requirement already satisfied: pycparser in /Users/kendallherron/opt/anaconda3/lib/python3.9/site-packages (from cffi>=1.0.1->argon2-cffi-bindings->argon2-cffi->notebook>=4.4.1->widgetsnbextension~=3.5.0->ipywidgets>=7.6.5->pycaret) (2.21)\n"
     ]
    },
    {
     "name": "stdout",
     "output_type": "stream",
     "text": [
      "Requirement already satisfied: jupyterlab-pygments in /Users/kendallherron/opt/anaconda3/lib/python3.9/site-packages (from nbconvert->notebook>=4.4.1->widgetsnbextension~=3.5.0->ipywidgets>=7.6.5->pycaret) (0.1.2)\n",
      "Requirement already satisfied: testpath in /Users/kendallherron/opt/anaconda3/lib/python3.9/site-packages (from nbconvert->notebook>=4.4.1->widgetsnbextension~=3.5.0->ipywidgets>=7.6.5->pycaret) (0.5.0)\n",
      "Requirement already satisfied: mistune<2,>=0.8.1 in /Users/kendallherron/opt/anaconda3/lib/python3.9/site-packages (from nbconvert->notebook>=4.4.1->widgetsnbextension~=3.5.0->ipywidgets>=7.6.5->pycaret) (0.8.4)\n",
      "Requirement already satisfied: beautifulsoup4 in /Users/kendallherron/opt/anaconda3/lib/python3.9/site-packages (from nbconvert->notebook>=4.4.1->widgetsnbextension~=3.5.0->ipywidgets>=7.6.5->pycaret) (4.11.1)\n",
      "Requirement already satisfied: nbclient<0.6.0,>=0.5.0 in /Users/kendallherron/opt/anaconda3/lib/python3.9/site-packages (from nbconvert->notebook>=4.4.1->widgetsnbextension~=3.5.0->ipywidgets>=7.6.5->pycaret) (0.5.13)\n",
      "Requirement already satisfied: defusedxml in /Users/kendallherron/opt/anaconda3/lib/python3.9/site-packages (from nbconvert->notebook>=4.4.1->widgetsnbextension~=3.5.0->ipywidgets>=7.6.5->pycaret) (0.7.1)\n",
      "Requirement already satisfied: entrypoints>=0.2.2 in /Users/kendallherron/opt/anaconda3/lib/python3.9/site-packages (from nbconvert->notebook>=4.4.1->widgetsnbextension~=3.5.0->ipywidgets>=7.6.5->pycaret) (0.4)\n",
      "Requirement already satisfied: bleach in /Users/kendallherron/opt/anaconda3/lib/python3.9/site-packages (from nbconvert->notebook>=4.4.1->widgetsnbextension~=3.5.0->ipywidgets>=7.6.5->pycaret) (4.1.0)\n",
      "Requirement already satisfied: pandocfilters>=1.4.1 in /Users/kendallherron/opt/anaconda3/lib/python3.9/site-packages (from nbconvert->notebook>=4.4.1->widgetsnbextension~=3.5.0->ipywidgets>=7.6.5->pycaret) (1.5.0)\n",
      "Requirement already satisfied: soupsieve>1.2 in /Users/kendallherron/opt/anaconda3/lib/python3.9/site-packages (from beautifulsoup4->nbconvert->notebook>=4.4.1->widgetsnbextension~=3.5.0->ipywidgets>=7.6.5->pycaret) (2.3.1)\n",
      "Requirement already satisfied: webencodings in /Users/kendallherron/opt/anaconda3/lib/python3.9/site-packages (from bleach->nbconvert->notebook>=4.4.1->widgetsnbextension~=3.5.0->ipywidgets>=7.6.5->pycaret) (0.5.1)\n",
      "Requirement already satisfied: executing in /Users/kendallherron/opt/anaconda3/lib/python3.9/site-packages (from stack-data->ipython>=5.5.0->pycaret) (0.8.3)\n",
      "Requirement already satisfied: asttokens in /Users/kendallherron/opt/anaconda3/lib/python3.9/site-packages (from stack-data->ipython>=5.5.0->pycaret) (2.0.5)\n",
      "Requirement already satisfied: pure-eval in /Users/kendallherron/opt/anaconda3/lib/python3.9/site-packages (from stack-data->ipython>=5.5.0->pycaret) (0.2.2)\n"
     ]
    }
   ],
   "source": [
    "!pip install pycaret"
   ]
  },
  {
   "cell_type": "markdown",
   "id": "1f7c1b80",
   "metadata": {},
   "source": [
    "### Imports"
   ]
  },
  {
   "cell_type": "code",
   "execution_count": 34,
   "id": "8b993790",
   "metadata": {},
   "outputs": [],
   "source": [
    "import os # accessing directory structure\n",
    "import pandas as pd # data processing, CSV file I/O\n",
    "import numpy as np # data structures, mathematical functions\n",
    "import matplotlib.pyplot as plt # data visulation and ploting\n",
    "import seaborn as sns # data visulation and ploting\n",
    "\n",
    "#Data preparation\n",
    "from sklearn.preprocessing import StandardScaler #scale each feature/varibale to unit variance\n",
    "from sklearn.model_selection import train_test_split, cross_validate, GridSearchCV, learning_curve\n",
    "from sklearn.dummy import DummyRegressor\n",
    "from sklearn.utils import resample\n",
    "from imblearn.datasets import make_imbalance\n",
    "from imblearn.over_sampling import SMOTE\n",
    "\n",
    "from sklearn.linear_model import LogisticRegression\n",
    "from sklearn.tree import DecisionTreeClassifier\n",
    "from sklearn.ensemble import GradientBoostingClassifier\n",
    "from sklearn.metrics import accuracy_score,f1_score,roc_auc_score,recall_score,precision_score,matthews_corrcoef,cohen_kappa_score\n",
    "\n",
    "import pycaret\n",
    "from pycaret.classification import *\n",
    "\n",
    "from save_utils import save_file"
   ]
  },
  {
   "cell_type": "markdown",
   "id": "ff4efd96",
   "metadata": {},
   "source": [
    "### Load The Credit Card Data"
   ]
  },
  {
   "cell_type": "code",
   "execution_count": 4,
   "id": "f38992a8",
   "metadata": {},
   "outputs": [],
   "source": [
    "credit_data = pd.read_csv('credit_data_eda.csv')"
   ]
  },
  {
   "cell_type": "code",
   "execution_count": 5,
   "id": "0f22d78f",
   "metadata": {},
   "outputs": [
    {
     "name": "stdout",
     "output_type": "stream",
     "text": [
      "<class 'pandas.core.frame.DataFrame'>\n",
      "RangeIndex: 37097 entries, 0 to 37096\n",
      "Data columns (total 12 columns):\n",
      " #   Column                     Non-Null Count  Dtype  \n",
      "---  ------                     --------------  -----  \n",
      " 0   AcountNumber               37097 non-null  int64  \n",
      " 1   CVV                        37097 non-null  int64  \n",
      " 2   CustomerAge                37097 non-null  float64\n",
      " 3   Gender                     37097 non-null  object \n",
      " 4   MaritalStatus              37097 non-null  object \n",
      " 5   CardColour                 37097 non-null  object \n",
      " 6   CardType                   37097 non-null  object \n",
      " 7   Domain                     37097 non-null  object \n",
      " 8   Amount                     37097 non-null  float64\n",
      " 9   AverageIncomeExpendicture  37097 non-null  int64  \n",
      " 10  Outcome                    37097 non-null  int64  \n",
      " 11  Customer_City_Address      37097 non-null  object \n",
      "dtypes: float64(2), int64(4), object(6)\n",
      "memory usage: 3.4+ MB\n"
     ]
    }
   ],
   "source": [
    "credit_data.info()"
   ]
  },
  {
   "cell_type": "code",
   "execution_count": 6,
   "id": "3f027b82",
   "metadata": {},
   "outputs": [
    {
     "data": {
      "text/html": [
       "<div>\n",
       "<style scoped>\n",
       "    .dataframe tbody tr th:only-of-type {\n",
       "        vertical-align: middle;\n",
       "    }\n",
       "\n",
       "    .dataframe tbody tr th {\n",
       "        vertical-align: top;\n",
       "    }\n",
       "\n",
       "    .dataframe thead th {\n",
       "        text-align: right;\n",
       "    }\n",
       "</style>\n",
       "<table border=\"1\" class=\"dataframe\">\n",
       "  <thead>\n",
       "    <tr style=\"text-align: right;\">\n",
       "      <th></th>\n",
       "      <th>AcountNumber</th>\n",
       "      <th>CVV</th>\n",
       "      <th>CustomerAge</th>\n",
       "      <th>Amount</th>\n",
       "      <th>AverageIncomeExpendicture</th>\n",
       "      <th>Outcome</th>\n",
       "      <th>Gender_Female</th>\n",
       "      <th>Gender_Male</th>\n",
       "      <th>MaritalStatus_Divorced</th>\n",
       "      <th>MaritalStatus_Married</th>\n",
       "      <th>...</th>\n",
       "      <th>Domain_International</th>\n",
       "      <th>Domain_Local</th>\n",
       "      <th>Customer_City_Address_Abuja</th>\n",
       "      <th>Customer_City_Address_Enugu</th>\n",
       "      <th>Customer_City_Address_Ibadan</th>\n",
       "      <th>Customer_City_Address_Kano</th>\n",
       "      <th>Customer_City_Address_Lagos</th>\n",
       "      <th>Customer_City_Address_Ota</th>\n",
       "      <th>Customer_City_Address_Other</th>\n",
       "      <th>Customer_City_Address_Port Harcourt</th>\n",
       "    </tr>\n",
       "  </thead>\n",
       "  <tbody>\n",
       "    <tr>\n",
       "      <th>0</th>\n",
       "      <td>1275734409</td>\n",
       "      <td>364</td>\n",
       "      <td>28.0</td>\n",
       "      <td>-1.615259</td>\n",
       "      <td>170919</td>\n",
       "      <td>0</td>\n",
       "      <td>0</td>\n",
       "      <td>1</td>\n",
       "      <td>0</td>\n",
       "      <td>1</td>\n",
       "      <td>...</td>\n",
       "      <td>0</td>\n",
       "      <td>1</td>\n",
       "      <td>0</td>\n",
       "      <td>1</td>\n",
       "      <td>0</td>\n",
       "      <td>0</td>\n",
       "      <td>0</td>\n",
       "      <td>0</td>\n",
       "      <td>0</td>\n",
       "      <td>0</td>\n",
       "    </tr>\n",
       "    <tr>\n",
       "      <th>1</th>\n",
       "      <td>1271246193</td>\n",
       "      <td>401</td>\n",
       "      <td>25.0</td>\n",
       "      <td>0.092558</td>\n",
       "      <td>329353</td>\n",
       "      <td>1</td>\n",
       "      <td>0</td>\n",
       "      <td>1</td>\n",
       "      <td>0</td>\n",
       "      <td>0</td>\n",
       "      <td>...</td>\n",
       "      <td>1</td>\n",
       "      <td>0</td>\n",
       "      <td>0</td>\n",
       "      <td>1</td>\n",
       "      <td>0</td>\n",
       "      <td>0</td>\n",
       "      <td>0</td>\n",
       "      <td>0</td>\n",
       "      <td>0</td>\n",
       "      <td>0</td>\n",
       "    </tr>\n",
       "    <tr>\n",
       "      <th>2</th>\n",
       "      <td>1242290165</td>\n",
       "      <td>266</td>\n",
       "      <td>21.0</td>\n",
       "      <td>-1.379350</td>\n",
       "      <td>292922</td>\n",
       "      <td>0</td>\n",
       "      <td>1</td>\n",
       "      <td>0</td>\n",
       "      <td>0</td>\n",
       "      <td>1</td>\n",
       "      <td>...</td>\n",
       "      <td>1</td>\n",
       "      <td>0</td>\n",
       "      <td>0</td>\n",
       "      <td>1</td>\n",
       "      <td>0</td>\n",
       "      <td>0</td>\n",
       "      <td>0</td>\n",
       "      <td>0</td>\n",
       "      <td>0</td>\n",
       "      <td>0</td>\n",
       "    </tr>\n",
       "    <tr>\n",
       "      <th>3</th>\n",
       "      <td>1245478185</td>\n",
       "      <td>402</td>\n",
       "      <td>26.0</td>\n",
       "      <td>-1.610989</td>\n",
       "      <td>145444</td>\n",
       "      <td>0</td>\n",
       "      <td>0</td>\n",
       "      <td>1</td>\n",
       "      <td>0</td>\n",
       "      <td>0</td>\n",
       "      <td>...</td>\n",
       "      <td>0</td>\n",
       "      <td>1</td>\n",
       "      <td>0</td>\n",
       "      <td>0</td>\n",
       "      <td>1</td>\n",
       "      <td>0</td>\n",
       "      <td>0</td>\n",
       "      <td>0</td>\n",
       "      <td>0</td>\n",
       "      <td>0</td>\n",
       "    </tr>\n",
       "    <tr>\n",
       "      <th>4</th>\n",
       "      <td>1258212072</td>\n",
       "      <td>334</td>\n",
       "      <td>28.0</td>\n",
       "      <td>0.517538</td>\n",
       "      <td>295990</td>\n",
       "      <td>1</td>\n",
       "      <td>1</td>\n",
       "      <td>0</td>\n",
       "      <td>0</td>\n",
       "      <td>1</td>\n",
       "      <td>...</td>\n",
       "      <td>1</td>\n",
       "      <td>0</td>\n",
       "      <td>0</td>\n",
       "      <td>0</td>\n",
       "      <td>0</td>\n",
       "      <td>0</td>\n",
       "      <td>0</td>\n",
       "      <td>0</td>\n",
       "      <td>0</td>\n",
       "      <td>1</td>\n",
       "    </tr>\n",
       "  </tbody>\n",
       "</table>\n",
       "<p>5 rows × 27 columns</p>\n",
       "</div>"
      ],
      "text/plain": [
       "   AcountNumber  CVV  CustomerAge    Amount  AverageIncomeExpendicture  \\\n",
       "0    1275734409  364         28.0 -1.615259                     170919   \n",
       "1    1271246193  401         25.0  0.092558                     329353   \n",
       "2    1242290165  266         21.0 -1.379350                     292922   \n",
       "3    1245478185  402         26.0 -1.610989                     145444   \n",
       "4    1258212072  334         28.0  0.517538                     295990   \n",
       "\n",
       "   Outcome  Gender_Female  Gender_Male  MaritalStatus_Divorced  \\\n",
       "0        0              0            1                       0   \n",
       "1        1              0            1                       0   \n",
       "2        0              1            0                       0   \n",
       "3        0              0            1                       0   \n",
       "4        1              1            0                       0   \n",
       "\n",
       "   MaritalStatus_Married  ...  Domain_International  Domain_Local  \\\n",
       "0                      1  ...                     0             1   \n",
       "1                      0  ...                     1             0   \n",
       "2                      1  ...                     1             0   \n",
       "3                      0  ...                     0             1   \n",
       "4                      1  ...                     1             0   \n",
       "\n",
       "   Customer_City_Address_Abuja  Customer_City_Address_Enugu  \\\n",
       "0                            0                            1   \n",
       "1                            0                            1   \n",
       "2                            0                            1   \n",
       "3                            0                            0   \n",
       "4                            0                            0   \n",
       "\n",
       "   Customer_City_Address_Ibadan  Customer_City_Address_Kano  \\\n",
       "0                             0                           0   \n",
       "1                             0                           0   \n",
       "2                             0                           0   \n",
       "3                             1                           0   \n",
       "4                             0                           0   \n",
       "\n",
       "   Customer_City_Address_Lagos  Customer_City_Address_Ota  \\\n",
       "0                            0                          0   \n",
       "1                            0                          0   \n",
       "2                            0                          0   \n",
       "3                            0                          0   \n",
       "4                            0                          0   \n",
       "\n",
       "   Customer_City_Address_Other  Customer_City_Address_Port Harcourt  \n",
       "0                            0                                    0  \n",
       "1                            0                                    0  \n",
       "2                            0                                    0  \n",
       "3                            0                                    0  \n",
       "4                            0                                    1  \n",
       "\n",
       "[5 rows x 27 columns]"
      ]
     },
     "execution_count": 6,
     "metadata": {},
     "output_type": "execute_result"
    }
   ],
   "source": [
    "credit_data = pd.get_dummies(credit_data, columns=['Gender', 'MaritalStatus', 'CardColour', 'CardType', 'Domain', 'Customer_City_Address'])\n",
    "credit_data.head()"
   ]
  },
  {
   "cell_type": "markdown",
   "id": "16d6ceb0",
   "metadata": {},
   "source": [
    "### Train/Test Split"
   ]
  },
  {
   "cell_type": "code",
   "execution_count": 7,
   "id": "3a6aa166",
   "metadata": {},
   "outputs": [],
   "source": [
    "X = credit_data.drop('Outcome', axis = 1)\n",
    "y = credit_data['Outcome']"
   ]
  },
  {
   "cell_type": "code",
   "execution_count": 8,
   "id": "5e808e89",
   "metadata": {},
   "outputs": [],
   "source": [
    "X_train, X_test, y_train, y_test = train_test_split(X, y, test_size = 0.25, random_state = 1)"
   ]
  },
  {
   "cell_type": "markdown",
   "id": "c231c13b",
   "metadata": {},
   "source": [
    "### Training Data Mean Predictor"
   ]
  },
  {
   "cell_type": "markdown",
   "id": "6c31bfe7",
   "metadata": {},
   "source": [
    "Using to dummy regressor to fit on the training data."
   ]
  },
  {
   "cell_type": "code",
   "execution_count": 9,
   "id": "d8168a8a",
   "metadata": {},
   "outputs": [
    {
     "data": {
      "text/plain": [
       "array([[0.73783337]])"
      ]
     },
     "execution_count": 9,
     "metadata": {},
     "output_type": "execute_result"
    }
   ],
   "source": [
    "dumb_reg = DummyRegressor(strategy='mean')\n",
    "dumb_reg.fit(X_train, y_train)\n",
    "dumb_reg.constant_"
   ]
  },
  {
   "cell_type": "code",
   "execution_count": 10,
   "id": "529b8123",
   "metadata": {},
   "outputs": [
    {
     "name": "stdout",
     "output_type": "stream",
     "text": [
      "There are 20528 fradulent transactions in this training set, which is 73.783337% of all transactions.\n",
      "There are 6842 fradulent transactions in this testing set, which is 73.768194% of all transactions.\n"
     ]
    }
   ],
   "source": [
    "fradulent_training = sum(y_train)\n",
    "fradulent_training_pct = sum(y_train)/len(y_train)*100\n",
    "fradulent_testing = sum(y_test)\n",
    "fradulent_testing_pct = sum(y_test)/len(y_test)*100\n",
    "print(\"There are {} fradulent transactions in this training set, which is {:2f}% of all transactions.\\nThere are {} fradulent transactions in this testing set, which is {:2f}% of all transactions.\".format(fradulent_training, fradulent_training_pct,\n",
    "                                                                                                                                                                                                            fradulent_testing, fradulent_testing_pct))"
   ]
  },
  {
   "cell_type": "code",
   "execution_count": 11,
   "id": "912775b5",
   "metadata": {},
   "outputs": [
    {
     "data": {
      "text/plain": [
       "1    20528\n",
       "0     7294\n",
       "Name: Outcome, dtype: int64"
      ]
     },
     "execution_count": 11,
     "metadata": {},
     "output_type": "execute_result"
    }
   ],
   "source": [
    "y_train.value_counts()"
   ]
  },
  {
   "cell_type": "code",
   "execution_count": 12,
   "id": "6c987cf6",
   "metadata": {},
   "outputs": [
    {
     "data": {
      "text/plain": [
       "1    27370\n",
       "0     9727\n",
       "Name: Outcome, dtype: int64"
      ]
     },
     "execution_count": 12,
     "metadata": {},
     "output_type": "execute_result"
    }
   ],
   "source": [
    "y.value_counts()"
   ]
  },
  {
   "cell_type": "markdown",
   "id": "0d9a8d5e",
   "metadata": {},
   "source": [
    "### Undersampling"
   ]
  },
  {
   "cell_type": "code",
   "execution_count": 13,
   "id": "7659d165",
   "metadata": {},
   "outputs": [],
   "source": [
    "X_train_1, y_train_1 = make_imbalance(X_train, y_train, sampling_strategy={0: 7000, 1: 7000}, random_state = 1)\n"
   ]
  },
  {
   "cell_type": "code",
   "execution_count": 14,
   "id": "54476441",
   "metadata": {},
   "outputs": [
    {
     "data": {
      "image/png": "[encoded data removed]",
      "text/plain": [
       "<Figure size 432x288 with 1 Axes>"
      ]
     },
     "metadata": {
      "needs_background": "light"
     },
     "output_type": "display_data"
    }
   ],
   "source": [
    "y_train_1.value_counts().plot(kind='bar')\n",
    "plt.title('label balance')\n",
    "plt.xlabel('label values')\n",
    "plt.ylabel('amount per label')\n",
    "plt.show()"
   ]
  },
  {
   "cell_type": "markdown",
   "id": "91cc40a2",
   "metadata": {},
   "source": [
    "### Oversampling"
   ]
  },
  {
   "cell_type": "code",
   "execution_count": 15,
   "id": "6b4f9d5b",
   "metadata": {},
   "outputs": [
    {
     "data": {
      "text/plain": [
       "AcountNumber                             int64\n",
       "CVV                                      int64\n",
       "CustomerAge                            float64\n",
       "Amount                                 float64\n",
       "AverageIncomeExpendicture                int64\n",
       "Gender_Female                            uint8\n",
       "Gender_Male                              uint8\n",
       "MaritalStatus_Divorced                   uint8\n",
       "MaritalStatus_Married                    uint8\n",
       "MaritalStatus_Single                     uint8\n",
       "MaritalStatus_Unknown                    uint8\n",
       "CardColour_Gold                          uint8\n",
       "CardColour_White                         uint8\n",
       "CardType_MasterCard                      uint8\n",
       "CardType_Verve                           uint8\n",
       "CardType_Visa                            uint8\n",
       "Domain_International                     uint8\n",
       "Domain_Local                             uint8\n",
       "Customer_City_Address_Abuja              uint8\n",
       "Customer_City_Address_Enugu              uint8\n",
       "Customer_City_Address_Ibadan             uint8\n",
       "Customer_City_Address_Kano               uint8\n",
       "Customer_City_Address_Lagos              uint8\n",
       "Customer_City_Address_Ota                uint8\n",
       "Customer_City_Address_Other              uint8\n",
       "Customer_City_Address_Port Harcourt      uint8\n",
       "dtype: object"
      ]
     },
     "execution_count": 15,
     "metadata": {},
     "output_type": "execute_result"
    }
   ],
   "source": [
    "X_train.dtypes"
   ]
  },
  {
   "cell_type": "code",
   "execution_count": 16,
   "id": "3a46d145",
   "metadata": {},
   "outputs": [],
   "source": [
    "smote = SMOTE(random_state = 1)\n",
    "X_train_3, y_train_3 = smote.fit_resample(X_train, y_train)"
   ]
  },
  {
   "cell_type": "code",
   "execution_count": 17,
   "id": "a99ac14c",
   "metadata": {},
   "outputs": [
    {
     "data": {
      "text/plain": [
       "1    20528\n",
       "0    20528\n",
       "Name: Outcome, dtype: int64"
      ]
     },
     "execution_count": 17,
     "metadata": {},
     "output_type": "execute_result"
    }
   ],
   "source": [
    "y_train_3.value_counts()"
   ]
  },
  {
   "cell_type": "code",
   "execution_count": 18,
   "id": "fad8a641",
   "metadata": {},
   "outputs": [
    {
     "data": {
      "image/png": "[encoded data removed]",
      "text/plain": [
       "<Figure size 432x288 with 1 Axes>"
      ]
     },
     "metadata": {
      "needs_background": "light"
     },
     "output_type": "display_data"
    }
   ],
   "source": [
    "y_train_3.value_counts().plot(kind='bar')\n",
    "plt.title('label balance')\n",
    "plt.xlabel('label values')\n",
    "plt.ylabel('amount per label')\n",
    "plt.show()"
   ]
  },
  {
   "cell_type": "markdown",
   "id": "db3fc207",
   "metadata": {},
   "source": [
    "### Evaluation Metrics"
   ]
  },
  {
   "cell_type": "code",
   "execution_count": 19,
   "id": "f68927d1",
   "metadata": {},
   "outputs": [],
   "source": [
    "def evaluation_model(model,X_test,y_test):\n",
    "  pred = model.predict(X_test)\n",
    "  print(\"Accuarcy Score: {:.2f}\\n Recall Score: {:.2f}\\n F1 Score: {:.2f}\\n AUC Score: {:.2f}\\n Kappa Score: {:.2f}\\n MCC Score: {:.2f}\".format(accuracy_score(y_test,pred), recall_score(y_test,pred),\n",
    "                                                                                                                                            f1_score(y_test,pred), roc_auc_score(y_test,pred),\n",
    "                                                                                                                                            cohen_kappa_score(y_test,pred),matthews_corrcoef(y_test,pred)))"
   ]
  },
  {
   "cell_type": "markdown",
   "id": "62d29ec2",
   "metadata": {},
   "source": [
    "### Model Training With Model Performance"
   ]
  },
  {
   "cell_type": "markdown",
   "id": "5d2bcc70",
   "metadata": {},
   "source": [
    "Logistic Regression with undersampling data"
   ]
  },
  {
   "cell_type": "code",
   "execution_count": 20,
   "id": "40ecf630",
   "metadata": {},
   "outputs": [],
   "source": [
    "log_model = LogisticRegression().fit(X_train_1, y_train_1)"
   ]
  },
  {
   "cell_type": "code",
   "execution_count": 21,
   "id": "9ecd6773",
   "metadata": {},
   "outputs": [
    {
     "name": "stdout",
     "output_type": "stream",
     "text": [
      "Accuarcy Score: 0.26\n",
      " Recall Score: 0.00\n",
      " F1 Score: 0.00\n",
      " AUC Score: 0.50\n",
      " Kappa Score: 0.00\n",
      " MCC Score: 0.00\n"
     ]
    }
   ],
   "source": [
    "evaluation_model(log_model, X_test, y_test)"
   ]
  },
  {
   "cell_type": "markdown",
   "id": "0bb0f0b1",
   "metadata": {},
   "source": [
    "Logistic Regression with overrsampling data"
   ]
  },
  {
   "cell_type": "code",
   "execution_count": 22,
   "id": "fb01a68e",
   "metadata": {},
   "outputs": [],
   "source": [
    "log_model = LogisticRegression().fit(X_train_3, y_train_3)"
   ]
  },
  {
   "cell_type": "code",
   "execution_count": 23,
   "id": "cae54ff9",
   "metadata": {},
   "outputs": [
    {
     "name": "stdout",
     "output_type": "stream",
     "text": [
      "Accuarcy Score: 0.26\n",
      " Recall Score: 0.00\n",
      " F1 Score: 0.00\n",
      " AUC Score: 0.50\n",
      " Kappa Score: 0.00\n",
      " MCC Score: 0.00\n"
     ]
    }
   ],
   "source": [
    "evaluation_model(log_model, X_test, y_test)"
   ]
  },
  {
   "cell_type": "markdown",
   "id": "572fb503",
   "metadata": {},
   "source": [
    "Decision Tree Classification with undersampling data"
   ]
  },
  {
   "cell_type": "code",
   "execution_count": 24,
   "id": "e07d75ce",
   "metadata": {},
   "outputs": [],
   "source": [
    "tree_model = DecisionTreeClassifier().fit(X_train_1,y_train_1)"
   ]
  },
  {
   "cell_type": "code",
   "execution_count": 25,
   "id": "45762951",
   "metadata": {},
   "outputs": [
    {
     "name": "stdout",
     "output_type": "stream",
     "text": [
      "Accuarcy Score: 0.85\n",
      " Recall Score: 0.86\n",
      " F1 Score: 0.90\n",
      " AUC Score: 0.85\n",
      " Kappa Score: 0.65\n",
      " MCC Score: 0.66\n"
     ]
    }
   ],
   "source": [
    "evaluation_model(tree_model, X_test, y_test)"
   ]
  },
  {
   "cell_type": "markdown",
   "id": "d905aba7",
   "metadata": {},
   "source": [
    "Decision Tree Classification with oversampling data"
   ]
  },
  {
   "cell_type": "code",
   "execution_count": 26,
   "id": "0a5bdbe6",
   "metadata": {},
   "outputs": [],
   "source": [
    "tree_model = DecisionTreeClassifier().fit(X_train_3,y_train_3)"
   ]
  },
  {
   "cell_type": "code",
   "execution_count": 27,
   "id": "aa4b0ee1",
   "metadata": {},
   "outputs": [
    {
     "name": "stdout",
     "output_type": "stream",
     "text": [
      "Accuarcy Score: 0.85\n",
      " Recall Score: 0.89\n",
      " F1 Score: 0.90\n",
      " AUC Score: 0.81\n",
      " Kappa Score: 0.61\n",
      " MCC Score: 0.61\n"
     ]
    }
   ],
   "source": [
    "evaluation_model(tree_model, X_test, y_test)"
   ]
  },
  {
   "cell_type": "markdown",
   "id": "8945e81f",
   "metadata": {},
   "source": [
    "### PyCaret - Training multiple models simultaneously while comparing their model performances"
   ]
  },
  {
   "cell_type": "code",
   "execution_count": 44,
   "id": "76e61864",
   "metadata": {},
   "outputs": [
    {
     "data": {
      "text/html": [
       "<style type=\"text/css\">\n",
       "#T_e1c87_row8_col1, #T_e1c87_row12_col1 {\n",
       "  background-color: lightgreen;\n",
       "}\n",
       "</style>\n",
       "<table id=\"T_e1c87\">\n",
       "  <thead>\n",
       "    <tr>\n",
       "      <th class=\"blank level0\" >&nbsp;</th>\n",
       "      <th id=\"T_e1c87_level0_col0\" class=\"col_heading level0 col0\" >Description</th>\n",
       "      <th id=\"T_e1c87_level0_col1\" class=\"col_heading level0 col1\" >Value</th>\n",
       "    </tr>\n",
       "  </thead>\n",
       "  <tbody>\n",
       "    <tr>\n",
       "      <th id=\"T_e1c87_level0_row0\" class=\"row_heading level0 row0\" >0</th>\n",
       "      <td id=\"T_e1c87_row0_col0\" class=\"data row0 col0\" >Session id</td>\n",
       "      <td id=\"T_e1c87_row0_col1\" class=\"data row0 col1\" >5467</td>\n",
       "    </tr>\n",
       "    <tr>\n",
       "      <th id=\"T_e1c87_level0_row1\" class=\"row_heading level0 row1\" >1</th>\n",
       "      <td id=\"T_e1c87_row1_col0\" class=\"data row1 col0\" >Target</td>\n",
       "      <td id=\"T_e1c87_row1_col1\" class=\"data row1 col1\" >Outcome</td>\n",
       "    </tr>\n",
       "    <tr>\n",
       "      <th id=\"T_e1c87_level0_row2\" class=\"row_heading level0 row2\" >2</th>\n",
       "      <td id=\"T_e1c87_row2_col0\" class=\"data row2 col0\" >Target type</td>\n",
       "      <td id=\"T_e1c87_row2_col1\" class=\"data row2 col1\" >Binary</td>\n",
       "    </tr>\n",
       "    <tr>\n",
       "      <th id=\"T_e1c87_level0_row3\" class=\"row_heading level0 row3\" >3</th>\n",
       "      <td id=\"T_e1c87_row3_col0\" class=\"data row3 col0\" >Original data shape</td>\n",
       "      <td id=\"T_e1c87_row3_col1\" class=\"data row3 col1\" >(37097, 27)</td>\n",
       "    </tr>\n",
       "    <tr>\n",
       "      <th id=\"T_e1c87_level0_row4\" class=\"row_heading level0 row4\" >4</th>\n",
       "      <td id=\"T_e1c87_row4_col0\" class=\"data row4 col0\" >Transformed data shape</td>\n",
       "      <td id=\"T_e1c87_row4_col1\" class=\"data row4 col1\" >(49446, 27)</td>\n",
       "    </tr>\n",
       "    <tr>\n",
       "      <th id=\"T_e1c87_level0_row5\" class=\"row_heading level0 row5\" >5</th>\n",
       "      <td id=\"T_e1c87_row5_col0\" class=\"data row5 col0\" >Transformed train set shape</td>\n",
       "      <td id=\"T_e1c87_row5_col1\" class=\"data row5 col1\" >(38316, 27)</td>\n",
       "    </tr>\n",
       "    <tr>\n",
       "      <th id=\"T_e1c87_level0_row6\" class=\"row_heading level0 row6\" >6</th>\n",
       "      <td id=\"T_e1c87_row6_col0\" class=\"data row6 col0\" >Transformed test set shape</td>\n",
       "      <td id=\"T_e1c87_row6_col1\" class=\"data row6 col1\" >(11130, 27)</td>\n",
       "    </tr>\n",
       "    <tr>\n",
       "      <th id=\"T_e1c87_level0_row7\" class=\"row_heading level0 row7\" >7</th>\n",
       "      <td id=\"T_e1c87_row7_col0\" class=\"data row7 col0\" >Numeric features</td>\n",
       "      <td id=\"T_e1c87_row7_col1\" class=\"data row7 col1\" >26</td>\n",
       "    </tr>\n",
       "    <tr>\n",
       "      <th id=\"T_e1c87_level0_row8\" class=\"row_heading level0 row8\" >8</th>\n",
       "      <td id=\"T_e1c87_row8_col0\" class=\"data row8 col0\" >Preprocess</td>\n",
       "      <td id=\"T_e1c87_row8_col1\" class=\"data row8 col1\" >True</td>\n",
       "    </tr>\n",
       "    <tr>\n",
       "      <th id=\"T_e1c87_level0_row9\" class=\"row_heading level0 row9\" >9</th>\n",
       "      <td id=\"T_e1c87_row9_col0\" class=\"data row9 col0\" >Imputation type</td>\n",
       "      <td id=\"T_e1c87_row9_col1\" class=\"data row9 col1\" >simple</td>\n",
       "    </tr>\n",
       "    <tr>\n",
       "      <th id=\"T_e1c87_level0_row10\" class=\"row_heading level0 row10\" >10</th>\n",
       "      <td id=\"T_e1c87_row10_col0\" class=\"data row10 col0\" >Numeric imputation</td>\n",
       "      <td id=\"T_e1c87_row10_col1\" class=\"data row10 col1\" >mean</td>\n",
       "    </tr>\n",
       "    <tr>\n",
       "      <th id=\"T_e1c87_level0_row11\" class=\"row_heading level0 row11\" >11</th>\n",
       "      <td id=\"T_e1c87_row11_col0\" class=\"data row11 col0\" >Categorical imputation</td>\n",
       "      <td id=\"T_e1c87_row11_col1\" class=\"data row11 col1\" >mode</td>\n",
       "    </tr>\n",
       "    <tr>\n",
       "      <th id=\"T_e1c87_level0_row12\" class=\"row_heading level0 row12\" >12</th>\n",
       "      <td id=\"T_e1c87_row12_col0\" class=\"data row12 col0\" >Fix imbalance</td>\n",
       "      <td id=\"T_e1c87_row12_col1\" class=\"data row12 col1\" >True</td>\n",
       "    </tr>\n",
       "    <tr>\n",
       "      <th id=\"T_e1c87_level0_row13\" class=\"row_heading level0 row13\" >13</th>\n",
       "      <td id=\"T_e1c87_row13_col0\" class=\"data row13 col0\" >Fix imbalance method</td>\n",
       "      <td id=\"T_e1c87_row13_col1\" class=\"data row13 col1\" >SMOTE</td>\n",
       "    </tr>\n",
       "    <tr>\n",
       "      <th id=\"T_e1c87_level0_row14\" class=\"row_heading level0 row14\" >14</th>\n",
       "      <td id=\"T_e1c87_row14_col0\" class=\"data row14 col0\" >Fold Generator</td>\n",
       "      <td id=\"T_e1c87_row14_col1\" class=\"data row14 col1\" >StratifiedKFold</td>\n",
       "    </tr>\n",
       "    <tr>\n",
       "      <th id=\"T_e1c87_level0_row15\" class=\"row_heading level0 row15\" >15</th>\n",
       "      <td id=\"T_e1c87_row15_col0\" class=\"data row15 col0\" >Fold Number</td>\n",
       "      <td id=\"T_e1c87_row15_col1\" class=\"data row15 col1\" >10</td>\n",
       "    </tr>\n",
       "    <tr>\n",
       "      <th id=\"T_e1c87_level0_row16\" class=\"row_heading level0 row16\" >16</th>\n",
       "      <td id=\"T_e1c87_row16_col0\" class=\"data row16 col0\" >CPU Jobs</td>\n",
       "      <td id=\"T_e1c87_row16_col1\" class=\"data row16 col1\" >-1</td>\n",
       "    </tr>\n",
       "    <tr>\n",
       "      <th id=\"T_e1c87_level0_row17\" class=\"row_heading level0 row17\" >17</th>\n",
       "      <td id=\"T_e1c87_row17_col0\" class=\"data row17 col0\" >Use GPU</td>\n",
       "      <td id=\"T_e1c87_row17_col1\" class=\"data row17 col1\" >False</td>\n",
       "    </tr>\n",
       "    <tr>\n",
       "      <th id=\"T_e1c87_level0_row18\" class=\"row_heading level0 row18\" >18</th>\n",
       "      <td id=\"T_e1c87_row18_col0\" class=\"data row18 col0\" >Log Experiment</td>\n",
       "      <td id=\"T_e1c87_row18_col1\" class=\"data row18 col1\" >False</td>\n",
       "    </tr>\n",
       "    <tr>\n",
       "      <th id=\"T_e1c87_level0_row19\" class=\"row_heading level0 row19\" >19</th>\n",
       "      <td id=\"T_e1c87_row19_col0\" class=\"data row19 col0\" >Experiment Name</td>\n",
       "      <td id=\"T_e1c87_row19_col1\" class=\"data row19 col1\" >clf-default-name</td>\n",
       "    </tr>\n",
       "    <tr>\n",
       "      <th id=\"T_e1c87_level0_row20\" class=\"row_heading level0 row20\" >20</th>\n",
       "      <td id=\"T_e1c87_row20_col0\" class=\"data row20 col0\" >USI</td>\n",
       "      <td id=\"T_e1c87_row20_col1\" class=\"data row20 col1\" >0c8c</td>\n",
       "    </tr>\n",
       "  </tbody>\n",
       "</table>\n"
      ],
      "text/plain": [
       "<pandas.io.formats.style.Styler at 0x7fef00838460>"
      ]
     },
     "metadata": {},
     "output_type": "display_data"
    }
   ],
   "source": [
    "classify = setup(data = credit_data, target = 'Outcome', fix_imbalance = True)"
   ]
  },
  {
   "cell_type": "code",
   "execution_count": 45,
   "id": "9f05b122",
   "metadata": {},
   "outputs": [
    {
     "data": {
      "text/html": [],
      "text/plain": [
       "<IPython.core.display.HTML object>"
      ]
     },
     "metadata": {},
     "output_type": "display_data"
    },
    {
     "data": {
      "text/html": [
       "<style type=\"text/css\">\n",
       "#T_2abc7 th {\n",
       "  text-align: left;\n",
       "}\n",
       "#T_2abc7_row0_col0, #T_2abc7_row0_col2, #T_2abc7_row0_col3, #T_2abc7_row0_col5, #T_2abc7_row1_col0, #T_2abc7_row1_col1, #T_2abc7_row1_col3, #T_2abc7_row1_col4, #T_2abc7_row1_col5, #T_2abc7_row1_col6, #T_2abc7_row1_col7, #T_2abc7_row2_col0, #T_2abc7_row2_col1, #T_2abc7_row2_col2, #T_2abc7_row2_col3, #T_2abc7_row2_col4, #T_2abc7_row2_col6, #T_2abc7_row2_col7, #T_2abc7_row3_col0, #T_2abc7_row3_col1, #T_2abc7_row3_col2, #T_2abc7_row3_col3, #T_2abc7_row3_col4, #T_2abc7_row3_col5, #T_2abc7_row3_col6, #T_2abc7_row3_col7, #T_2abc7_row4_col0, #T_2abc7_row4_col1, #T_2abc7_row4_col2, #T_2abc7_row4_col4, #T_2abc7_row4_col5, #T_2abc7_row4_col6, #T_2abc7_row4_col7, #T_2abc7_row5_col0, #T_2abc7_row5_col1, #T_2abc7_row5_col2, #T_2abc7_row5_col3, #T_2abc7_row5_col4, #T_2abc7_row5_col5, #T_2abc7_row5_col6, #T_2abc7_row5_col7, #T_2abc7_row6_col0, #T_2abc7_row6_col1, #T_2abc7_row6_col2, #T_2abc7_row6_col3, #T_2abc7_row6_col4, #T_2abc7_row6_col5, #T_2abc7_row6_col6, #T_2abc7_row6_col7, #T_2abc7_row7_col0, #T_2abc7_row7_col1, #T_2abc7_row7_col2, #T_2abc7_row7_col3, #T_2abc7_row7_col4, #T_2abc7_row7_col5, #T_2abc7_row7_col6, #T_2abc7_row7_col7, #T_2abc7_row8_col0, #T_2abc7_row8_col1, #T_2abc7_row8_col2, #T_2abc7_row8_col3, #T_2abc7_row8_col4, #T_2abc7_row8_col5, #T_2abc7_row8_col6, #T_2abc7_row8_col7, #T_2abc7_row9_col0, #T_2abc7_row9_col1, #T_2abc7_row9_col2, #T_2abc7_row9_col3, #T_2abc7_row9_col4, #T_2abc7_row9_col5, #T_2abc7_row9_col6, #T_2abc7_row9_col7, #T_2abc7_row10_col0, #T_2abc7_row10_col1, #T_2abc7_row10_col2, #T_2abc7_row10_col3, #T_2abc7_row10_col4, #T_2abc7_row10_col5, #T_2abc7_row10_col6, #T_2abc7_row10_col7, #T_2abc7_row11_col0, #T_2abc7_row11_col1, #T_2abc7_row11_col2, #T_2abc7_row11_col3, #T_2abc7_row11_col4, #T_2abc7_row11_col5, #T_2abc7_row11_col6, #T_2abc7_row11_col7, #T_2abc7_row12_col0, #T_2abc7_row12_col1, #T_2abc7_row12_col2, #T_2abc7_row12_col3, #T_2abc7_row12_col4, #T_2abc7_row12_col5, #T_2abc7_row12_col6, #T_2abc7_row12_col7, #T_2abc7_row13_col0, #T_2abc7_row13_col1, #T_2abc7_row13_col2, #T_2abc7_row13_col3, #T_2abc7_row13_col4, #T_2abc7_row13_col5, #T_2abc7_row13_col6, #T_2abc7_row13_col7 {\n",
       "  text-align: left;\n",
       "}\n",
       "#T_2abc7_row0_col1, #T_2abc7_row0_col4, #T_2abc7_row0_col6, #T_2abc7_row0_col7, #T_2abc7_row1_col2, #T_2abc7_row2_col5, #T_2abc7_row4_col3 {\n",
       "  text-align: left;\n",
       "  background-color: yellow;\n",
       "}\n",
       "#T_2abc7_row0_col8, #T_2abc7_row1_col8, #T_2abc7_row2_col8, #T_2abc7_row3_col8, #T_2abc7_row4_col8, #T_2abc7_row5_col8, #T_2abc7_row6_col8, #T_2abc7_row7_col8, #T_2abc7_row8_col8, #T_2abc7_row9_col8, #T_2abc7_row10_col8, #T_2abc7_row11_col8, #T_2abc7_row12_col8 {\n",
       "  text-align: left;\n",
       "  background-color: lightgrey;\n",
       "}\n",
       "#T_2abc7_row13_col8 {\n",
       "  text-align: left;\n",
       "  background-color: yellow;\n",
       "  background-color: lightgrey;\n",
       "}\n",
       "</style>\n",
       "<table id=\"T_2abc7\">\n",
       "  <thead>\n",
       "    <tr>\n",
       "      <th class=\"blank level0\" >&nbsp;</th>\n",
       "      <th id=\"T_2abc7_level0_col0\" class=\"col_heading level0 col0\" >Model</th>\n",
       "      <th id=\"T_2abc7_level0_col1\" class=\"col_heading level0 col1\" >Accuracy</th>\n",
       "      <th id=\"T_2abc7_level0_col2\" class=\"col_heading level0 col2\" >AUC</th>\n",
       "      <th id=\"T_2abc7_level0_col3\" class=\"col_heading level0 col3\" >Recall</th>\n",
       "      <th id=\"T_2abc7_level0_col4\" class=\"col_heading level0 col4\" >Prec.</th>\n",
       "      <th id=\"T_2abc7_level0_col5\" class=\"col_heading level0 col5\" >F1</th>\n",
       "      <th id=\"T_2abc7_level0_col6\" class=\"col_heading level0 col6\" >Kappa</th>\n",
       "      <th id=\"T_2abc7_level0_col7\" class=\"col_heading level0 col7\" >MCC</th>\n",
       "      <th id=\"T_2abc7_level0_col8\" class=\"col_heading level0 col8\" >TT (Sec)</th>\n",
       "    </tr>\n",
       "  </thead>\n",
       "  <tbody>\n",
       "    <tr>\n",
       "      <th id=\"T_2abc7_level0_row0\" class=\"row_heading level0 row0\" >gbc</th>\n",
       "      <td id=\"T_2abc7_row0_col0\" class=\"data row0 col0\" >Gradient Boosting Classifier</td>\n",
       "      <td id=\"T_2abc7_row0_col1\" class=\"data row0 col1\" >0.8641</td>\n",
       "      <td id=\"T_2abc7_row0_col2\" class=\"data row0 col2\" >0.9456</td>\n",
       "      <td id=\"T_2abc7_row0_col3\" class=\"data row0 col3\" >0.8472</td>\n",
       "      <td id=\"T_2abc7_row0_col4\" class=\"data row0 col4\" >0.9643</td>\n",
       "      <td id=\"T_2abc7_row0_col5\" class=\"data row0 col5\" >0.9019</td>\n",
       "      <td id=\"T_2abc7_row0_col6\" class=\"data row0 col6\" >0.6836</td>\n",
       "      <td id=\"T_2abc7_row0_col7\" class=\"data row0 col7\" >0.6991</td>\n",
       "      <td id=\"T_2abc7_row0_col8\" class=\"data row0 col8\" >3.9780</td>\n",
       "    </tr>\n",
       "    <tr>\n",
       "      <th id=\"T_2abc7_level0_row1\" class=\"row_heading level0 row1\" >lightgbm</th>\n",
       "      <td id=\"T_2abc7_row1_col0\" class=\"data row1 col0\" >Light Gradient Boosting Machine</td>\n",
       "      <td id=\"T_2abc7_row1_col1\" class=\"data row1 col1\" >0.8624</td>\n",
       "      <td id=\"T_2abc7_row1_col2\" class=\"data row1 col2\" >0.9458</td>\n",
       "      <td id=\"T_2abc7_row1_col3\" class=\"data row1 col3\" >0.8651</td>\n",
       "      <td id=\"T_2abc7_row1_col4\" class=\"data row1 col4\" >0.9437</td>\n",
       "      <td id=\"T_2abc7_row1_col5\" class=\"data row1 col5\" >0.9027</td>\n",
       "      <td id=\"T_2abc7_row1_col6\" class=\"data row1 col6\" >0.6692</td>\n",
       "      <td id=\"T_2abc7_row1_col7\" class=\"data row1 col7\" >0.6767</td>\n",
       "      <td id=\"T_2abc7_row1_col8\" class=\"data row1 col8\" >0.8850</td>\n",
       "    </tr>\n",
       "    <tr>\n",
       "      <th id=\"T_2abc7_level0_row2\" class=\"row_heading level0 row2\" >rf</th>\n",
       "      <td id=\"T_2abc7_row2_col0\" class=\"data row2 col0\" >Random Forest Classifier</td>\n",
       "      <td id=\"T_2abc7_row2_col1\" class=\"data row2 col1\" >0.8605</td>\n",
       "      <td id=\"T_2abc7_row2_col2\" class=\"data row2 col2\" >0.9447</td>\n",
       "      <td id=\"T_2abc7_row2_col3\" class=\"data row2 col3\" >0.8798</td>\n",
       "      <td id=\"T_2abc7_row2_col4\" class=\"data row2 col4\" >0.9274</td>\n",
       "      <td id=\"T_2abc7_row2_col5\" class=\"data row2 col5\" >0.9030</td>\n",
       "      <td id=\"T_2abc7_row2_col6\" class=\"data row2 col6\" >0.6555</td>\n",
       "      <td id=\"T_2abc7_row2_col7\" class=\"data row2 col7\" >0.6584</td>\n",
       "      <td id=\"T_2abc7_row2_col8\" class=\"data row2 col8\" >2.0750</td>\n",
       "    </tr>\n",
       "    <tr>\n",
       "      <th id=\"T_2abc7_level0_row3\" class=\"row_heading level0 row3\" >ada</th>\n",
       "      <td id=\"T_2abc7_row3_col0\" class=\"data row3 col0\" >Ada Boost Classifier</td>\n",
       "      <td id=\"T_2abc7_row3_col1\" class=\"data row3 col1\" >0.8525</td>\n",
       "      <td id=\"T_2abc7_row3_col2\" class=\"data row3 col2\" >0.9381</td>\n",
       "      <td id=\"T_2abc7_row3_col3\" class=\"data row3 col3\" >0.8670</td>\n",
       "      <td id=\"T_2abc7_row3_col4\" class=\"data row3 col4\" >0.9284</td>\n",
       "      <td id=\"T_2abc7_row3_col5\" class=\"data row3 col5\" >0.8966</td>\n",
       "      <td id=\"T_2abc7_row3_col6\" class=\"data row3 col6\" >0.6402</td>\n",
       "      <td id=\"T_2abc7_row3_col7\" class=\"data row3 col7\" >0.6449</td>\n",
       "      <td id=\"T_2abc7_row3_col8\" class=\"data row3 col8\" >1.3450</td>\n",
       "    </tr>\n",
       "    <tr>\n",
       "      <th id=\"T_2abc7_level0_row4\" class=\"row_heading level0 row4\" >et</th>\n",
       "      <td id=\"T_2abc7_row4_col0\" class=\"data row4 col0\" >Extra Trees Classifier</td>\n",
       "      <td id=\"T_2abc7_row4_col1\" class=\"data row4 col1\" >0.8516</td>\n",
       "      <td id=\"T_2abc7_row4_col2\" class=\"data row4 col2\" >0.9370</td>\n",
       "      <td id=\"T_2abc7_row4_col3\" class=\"data row4 col3\" >0.8993</td>\n",
       "      <td id=\"T_2abc7_row4_col4\" class=\"data row4 col4\" >0.8996</td>\n",
       "      <td id=\"T_2abc7_row4_col5\" class=\"data row4 col5\" >0.8994</td>\n",
       "      <td id=\"T_2abc7_row4_col6\" class=\"data row4 col6\" >0.6166</td>\n",
       "      <td id=\"T_2abc7_row4_col7\" class=\"data row4 col7\" >0.6166</td>\n",
       "      <td id=\"T_2abc7_row4_col8\" class=\"data row4 col8\" >1.9570</td>\n",
       "    </tr>\n",
       "    <tr>\n",
       "      <th id=\"T_2abc7_level0_row5\" class=\"row_heading level0 row5\" >dt</th>\n",
       "      <td id=\"T_2abc7_row5_col0\" class=\"data row5 col0\" >Decision Tree Classifier</td>\n",
       "      <td id=\"T_2abc7_row5_col1\" class=\"data row5 col1\" >0.8499</td>\n",
       "      <td id=\"T_2abc7_row5_col2\" class=\"data row5 col2\" >0.8089</td>\n",
       "      <td id=\"T_2abc7_row5_col3\" class=\"data row5 col3\" >0.8951</td>\n",
       "      <td id=\"T_2abc7_row5_col4\" class=\"data row5 col4\" >0.9008</td>\n",
       "      <td id=\"T_2abc7_row5_col5\" class=\"data row5 col5\" >0.8979</td>\n",
       "      <td id=\"T_2abc7_row5_col6\" class=\"data row5 col6\" >0.6143</td>\n",
       "      <td id=\"T_2abc7_row5_col7\" class=\"data row5 col7\" >0.6144</td>\n",
       "      <td id=\"T_2abc7_row5_col8\" class=\"data row5 col8\" >0.5500</td>\n",
       "    </tr>\n",
       "    <tr>\n",
       "      <th id=\"T_2abc7_level0_row6\" class=\"row_heading level0 row6\" >qda</th>\n",
       "      <td id=\"T_2abc7_row6_col0\" class=\"data row6 col0\" >Quadratic Discriminant Analysis</td>\n",
       "      <td id=\"T_2abc7_row6_col1\" class=\"data row6 col1\" >0.8277</td>\n",
       "      <td id=\"T_2abc7_row6_col2\" class=\"data row6 col2\" >0.9133</td>\n",
       "      <td id=\"T_2abc7_row6_col3\" class=\"data row6 col3\" >0.8431</td>\n",
       "      <td id=\"T_2abc7_row6_col4\" class=\"data row6 col4\" >0.9231</td>\n",
       "      <td id=\"T_2abc7_row6_col5\" class=\"data row6 col5\" >0.8785</td>\n",
       "      <td id=\"T_2abc7_row6_col6\" class=\"data row6 col6\" >0.5743</td>\n",
       "      <td id=\"T_2abc7_row6_col7\" class=\"data row6 col7\" >0.5964</td>\n",
       "      <td id=\"T_2abc7_row6_col8\" class=\"data row6 col8\" >0.5180</td>\n",
       "    </tr>\n",
       "    <tr>\n",
       "      <th id=\"T_2abc7_level0_row7\" class=\"row_heading level0 row7\" >ridge</th>\n",
       "      <td id=\"T_2abc7_row7_col0\" class=\"data row7 col0\" >Ridge Classifier</td>\n",
       "      <td id=\"T_2abc7_row7_col1\" class=\"data row7 col1\" >0.8190</td>\n",
       "      <td id=\"T_2abc7_row7_col2\" class=\"data row7 col2\" >0.0000</td>\n",
       "      <td id=\"T_2abc7_row7_col3\" class=\"data row7 col3\" >0.7839</td>\n",
       "      <td id=\"T_2abc7_row7_col4\" class=\"data row7 col4\" >0.9642</td>\n",
       "      <td id=\"T_2abc7_row7_col5\" class=\"data row7 col5\" >0.8647</td>\n",
       "      <td id=\"T_2abc7_row7_col6\" class=\"data row7 col6\" >0.6001</td>\n",
       "      <td id=\"T_2abc7_row7_col7\" class=\"data row7 col7\" >0.6301</td>\n",
       "      <td id=\"T_2abc7_row7_col8\" class=\"data row7 col8\" >0.5090</td>\n",
       "    </tr>\n",
       "    <tr>\n",
       "      <th id=\"T_2abc7_level0_row8\" class=\"row_heading level0 row8\" >lda</th>\n",
       "      <td id=\"T_2abc7_row8_col0\" class=\"data row8 col0\" >Linear Discriminant Analysis</td>\n",
       "      <td id=\"T_2abc7_row8_col1\" class=\"data row8 col1\" >0.8190</td>\n",
       "      <td id=\"T_2abc7_row8_col2\" class=\"data row8 col2\" >0.9220</td>\n",
       "      <td id=\"T_2abc7_row8_col3\" class=\"data row8 col3\" >0.7839</td>\n",
       "      <td id=\"T_2abc7_row8_col4\" class=\"data row8 col4\" >0.9642</td>\n",
       "      <td id=\"T_2abc7_row8_col5\" class=\"data row8 col5\" >0.8647</td>\n",
       "      <td id=\"T_2abc7_row8_col6\" class=\"data row8 col6\" >0.6001</td>\n",
       "      <td id=\"T_2abc7_row8_col7\" class=\"data row8 col7\" >0.6301</td>\n",
       "      <td id=\"T_2abc7_row8_col8\" class=\"data row8 col8\" >0.5810</td>\n",
       "    </tr>\n",
       "    <tr>\n",
       "      <th id=\"T_2abc7_level0_row9\" class=\"row_heading level0 row9\" >knn</th>\n",
       "      <td id=\"T_2abc7_row9_col0\" class=\"data row9 col0\" >K Neighbors Classifier</td>\n",
       "      <td id=\"T_2abc7_row9_col1\" class=\"data row9 col1\" >0.5546</td>\n",
       "      <td id=\"T_2abc7_row9_col2\" class=\"data row9 col2\" >0.5373</td>\n",
       "      <td id=\"T_2abc7_row9_col3\" class=\"data row9 col3\" >0.5880</td>\n",
       "      <td id=\"T_2abc7_row9_col4\" class=\"data row9 col4\" >0.7541</td>\n",
       "      <td id=\"T_2abc7_row9_col5\" class=\"data row9 col5\" >0.6607</td>\n",
       "      <td id=\"T_2abc7_row9_col6\" class=\"data row9 col6\" >0.0405</td>\n",
       "      <td id=\"T_2abc7_row9_col7\" class=\"data row9 col7\" >0.0432</td>\n",
       "      <td id=\"T_2abc7_row9_col8\" class=\"data row9 col8\" >6.1200</td>\n",
       "    </tr>\n",
       "    <tr>\n",
       "      <th id=\"T_2abc7_level0_row10\" class=\"row_heading level0 row10\" >svm</th>\n",
       "      <td id=\"T_2abc7_row10_col0\" class=\"data row10 col0\" >SVM - Linear Kernel</td>\n",
       "      <td id=\"T_2abc7_row10_col1\" class=\"data row10 col1\" >0.5476</td>\n",
       "      <td id=\"T_2abc7_row10_col2\" class=\"data row10 col2\" >0.0000</td>\n",
       "      <td id=\"T_2abc7_row10_col3\" class=\"data row10 col3\" >0.6000</td>\n",
       "      <td id=\"T_2abc7_row10_col4\" class=\"data row10 col4\" >0.4427</td>\n",
       "      <td id=\"T_2abc7_row10_col5\" class=\"data row10 col5\" >0.5095</td>\n",
       "      <td id=\"T_2abc7_row10_col6\" class=\"data row10 col6\" >0.0000</td>\n",
       "      <td id=\"T_2abc7_row10_col7\" class=\"data row10 col7\" >0.0000</td>\n",
       "      <td id=\"T_2abc7_row10_col8\" class=\"data row10 col8\" >1.2040</td>\n",
       "    </tr>\n",
       "    <tr>\n",
       "      <th id=\"T_2abc7_level0_row11\" class=\"row_heading level0 row11\" >nb</th>\n",
       "      <td id=\"T_2abc7_row11_col0\" class=\"data row11 col0\" >Naive Bayes</td>\n",
       "      <td id=\"T_2abc7_row11_col1\" class=\"data row11 col1\" >0.4828</td>\n",
       "      <td id=\"T_2abc7_row11_col2\" class=\"data row11 col2\" >0.5803</td>\n",
       "      <td id=\"T_2abc7_row11_col3\" class=\"data row11 col3\" >0.3904</td>\n",
       "      <td id=\"T_2abc7_row11_col4\" class=\"data row11 col4\" >0.8104</td>\n",
       "      <td id=\"T_2abc7_row11_col5\" class=\"data row11 col5\" >0.5269</td>\n",
       "      <td id=\"T_2abc7_row11_col6\" class=\"data row11 col6\" >0.0907</td>\n",
       "      <td id=\"T_2abc7_row11_col7\" class=\"data row11 col7\" >0.1226</td>\n",
       "      <td id=\"T_2abc7_row11_col8\" class=\"data row11 col8\" >0.5180</td>\n",
       "    </tr>\n",
       "    <tr>\n",
       "      <th id=\"T_2abc7_level0_row12\" class=\"row_heading level0 row12\" >lr</th>\n",
       "      <td id=\"T_2abc7_row12_col0\" class=\"data row12 col0\" >Logistic Regression</td>\n",
       "      <td id=\"T_2abc7_row12_col1\" class=\"data row12 col1\" >0.3732</td>\n",
       "      <td id=\"T_2abc7_row12_col2\" class=\"data row12 col2\" >0.5369</td>\n",
       "      <td id=\"T_2abc7_row12_col3\" class=\"data row12 col3\" >0.2124</td>\n",
       "      <td id=\"T_2abc7_row12_col4\" class=\"data row12 col4\" >0.3096</td>\n",
       "      <td id=\"T_2abc7_row12_col5\" class=\"data row12 col5\" >0.2519</td>\n",
       "      <td id=\"T_2abc7_row12_col6\" class=\"data row12 col6\" >0.0294</td>\n",
       "      <td id=\"T_2abc7_row12_col7\" class=\"data row12 col7\" >0.0332</td>\n",
       "      <td id=\"T_2abc7_row12_col8\" class=\"data row12 col8\" >1.9960</td>\n",
       "    </tr>\n",
       "    <tr>\n",
       "      <th id=\"T_2abc7_level0_row13\" class=\"row_heading level0 row13\" >dummy</th>\n",
       "      <td id=\"T_2abc7_row13_col0\" class=\"data row13 col0\" >Dummy Classifier</td>\n",
       "      <td id=\"T_2abc7_row13_col1\" class=\"data row13 col1\" >0.2622</td>\n",
       "      <td id=\"T_2abc7_row13_col2\" class=\"data row13 col2\" >0.5000</td>\n",
       "      <td id=\"T_2abc7_row13_col3\" class=\"data row13 col3\" >0.0000</td>\n",
       "      <td id=\"T_2abc7_row13_col4\" class=\"data row13 col4\" >0.0000</td>\n",
       "      <td id=\"T_2abc7_row13_col5\" class=\"data row13 col5\" >0.0000</td>\n",
       "      <td id=\"T_2abc7_row13_col6\" class=\"data row13 col6\" >0.0000</td>\n",
       "      <td id=\"T_2abc7_row13_col7\" class=\"data row13 col7\" >0.0000</td>\n",
       "      <td id=\"T_2abc7_row13_col8\" class=\"data row13 col8\" >0.4900</td>\n",
       "    </tr>\n",
       "  </tbody>\n",
       "</table>\n"
      ],
      "text/plain": [
       "<pandas.io.formats.style.Styler at 0x7fef04726a90>"
      ]
     },
     "metadata": {},
     "output_type": "display_data"
    },
    {
     "data": {
      "application/vnd.jupyter.widget-view+json": {
       "model_id": "",
       "version_major": 2,
       "version_minor": 0
      },
      "text/plain": [
       "Processing:   0%|          | 0/61 [00:00<?, ?it/s]"
      ]
     },
     "metadata": {},
     "output_type": "display_data"
    },
    {
     "data": {
      "text/plain": [
       "GradientBoostingClassifier(ccp_alpha=0.0, criterion='friedman_mse', init=None,\n",
       "                           learning_rate=0.1, loss='deviance', max_depth=3,\n",
       "                           max_features=None, max_leaf_nodes=None,\n",
       "                           min_impurity_decrease=0.0, min_samples_leaf=1,\n",
       "                           min_samples_split=2, min_weight_fraction_leaf=0.0,\n",
       "                           n_estimators=100, n_iter_no_change=None,\n",
       "                           random_state=5467, subsample=1.0, tol=0.0001,\n",
       "                           validation_fraction=0.1, verbose=0,\n",
       "                           warm_start=False)"
      ]
     },
     "execution_count": 45,
     "metadata": {},
     "output_type": "execute_result"
    }
   ],
   "source": [
    "compare_models()"
   ]
  },
  {
   "cell_type": "markdown",
   "id": "2e7f4915",
   "metadata": {},
   "source": [
    "Gradient Boosting Classification with oversampling data"
   ]
  },
  {
   "cell_type": "code",
   "execution_count": 46,
   "id": "7a3e951c",
   "metadata": {},
   "outputs": [],
   "source": [
    "grad_model = GradientBoostingClassifier().fit(X_train_3,y_train_3)"
   ]
  },
  {
   "cell_type": "code",
   "execution_count": 47,
   "id": "dcc398dc",
   "metadata": {},
   "outputs": [
    {
     "name": "stdout",
     "output_type": "stream",
     "text": [
      "Accuarcy Score: 0.86\n",
      " Recall Score: 0.85\n",
      " F1 Score: 0.90\n",
      " AUC Score: 0.87\n",
      " Kappa Score: 0.67\n",
      " MCC Score: 0.68\n"
     ]
    }
   ],
   "source": [
    "evaluation_model(grad_model, X_test, y_test)"
   ]
  },
  {
   "cell_type": "markdown",
   "id": "b89079b9",
   "metadata": {},
   "source": [
    "Gradient Boosting Classification with undersampling data"
   ]
  },
  {
   "cell_type": "code",
   "execution_count": 36,
   "id": "d99d58c6",
   "metadata": {},
   "outputs": [],
   "source": [
    "grad_model = GradientBoostingClassifier().fit(X_train_1,y_train_1)"
   ]
  },
  {
   "cell_type": "code",
   "execution_count": 37,
   "id": "3f04e7f3",
   "metadata": {},
   "outputs": [
    {
     "name": "stdout",
     "output_type": "stream",
     "text": [
      "Accuarcy Score: 0.86\n",
      " Recall Score: 0.81\n",
      " F1 Score: 0.90\n",
      " AUC Score: 0.91\n",
      " Kappa Score: 0.69\n",
      " MCC Score: 0.73\n"
     ]
    }
   ],
   "source": [
    "evaluation_model(grad_model, X_test, y_test)"
   ]
  },
  {
   "cell_type": "code",
   "execution_count": null,
   "id": "bac11a89",
   "metadata": {},
   "outputs": [],
   "source": []
  }
 ],
 "metadata": {
  "kernelspec": {
   "display_name": "Python 3 (ipykernel)",
   "language": "python",
   "name": "python3"
  },
  "language_info": {
   "codemirror_mode": {
    "name": "ipython",
    "version": 3
   },
   "file_extension": ".py",
   "mimetype": "text/x-python",
   "name": "python",
   "nbconvert_exporter": "python",
   "pygments_lexer": "ipython3",
   "version": "3.9.18"
  }
 },
 "nbformat": 4,
 "nbformat_minor": 5
}
